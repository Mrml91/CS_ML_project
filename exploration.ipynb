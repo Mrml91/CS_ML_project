{
 "cells": [
  {
   "cell_type": "code",
   "execution_count": 1,
   "metadata": {},
   "outputs": [],
   "source": [
    "import numpy as np\n",
    "import pandas as pd\n",
    "import matplotlib.pyplot as plt\n",
    "import seaborn as sns\n",
    "import h5py\n",
    "import os\n",
    "\n",
    "from kaggle_submit import submit_to_kaggle\n",
    "from helpers import *"
   ]
  },
  {
   "cell_type": "code",
   "execution_count": 2,
   "metadata": {},
   "outputs": [],
   "source": [
    "PICTURES_FOLDER = \"pictures\"\n",
    "os.makedirs(PICTURES_FOLDER, exist_ok=True)\n",
    "\n",
    "SLEEP_STAGES_COLORS = {\n",
    "    0: \"blue\",\n",
    "    1: \"green\",     \n",
    "    2: \"red\",\n",
    "    3: \"black\",\n",
    "    4: \"orange\",\n",
    "}"
   ]
  },
  {
   "cell_type": "code",
   "execution_count": 3,
   "metadata": {},
   "outputs": [
    {
     "ename": "OSError",
     "evalue": "Unable to create file (unable to open file: name = 'kaggle_data/X_train.h5/X_train.h5', errno = 17, error message = 'File exists', flags = 15, o_flags = a02)",
     "output_type": "error",
     "traceback": [
      "\u001b[0;31m---------------------------------------------------------------------------\u001b[0m",
      "\u001b[0;31mOSError\u001b[0m                                   Traceback (most recent call last)",
      "\u001b[0;32m~/opt/anaconda3/lib/python3.8/site-packages/h5py/_hl/files.py\u001b[0m in \u001b[0;36mmake_fid\u001b[0;34m(name, mode, userblock_size, fapl, fcpl, swmr)\u001b[0m\n\u001b[1;32m    184\u001b[0m         \u001b[0;32mtry\u001b[0m\u001b[0;34m:\u001b[0m\u001b[0;34m\u001b[0m\u001b[0;34m\u001b[0m\u001b[0m\n\u001b[0;32m--> 185\u001b[0;31m             \u001b[0mfid\u001b[0m \u001b[0;34m=\u001b[0m \u001b[0mh5f\u001b[0m\u001b[0;34m.\u001b[0m\u001b[0mopen\u001b[0m\u001b[0;34m(\u001b[0m\u001b[0mname\u001b[0m\u001b[0;34m,\u001b[0m \u001b[0mh5f\u001b[0m\u001b[0;34m.\u001b[0m\u001b[0mACC_RDWR\u001b[0m\u001b[0;34m,\u001b[0m \u001b[0mfapl\u001b[0m\u001b[0;34m=\u001b[0m\u001b[0mfapl\u001b[0m\u001b[0;34m)\u001b[0m\u001b[0;34m\u001b[0m\u001b[0;34m\u001b[0m\u001b[0m\n\u001b[0m\u001b[1;32m    186\u001b[0m         \u001b[0;32mexcept\u001b[0m \u001b[0mIOError\u001b[0m\u001b[0;34m:\u001b[0m\u001b[0;34m\u001b[0m\u001b[0;34m\u001b[0m\u001b[0m\n",
      "\u001b[0;32mh5py/_objects.pyx\u001b[0m in \u001b[0;36mh5py._objects.with_phil.wrapper\u001b[0;34m()\u001b[0m\n",
      "\u001b[0;32mh5py/_objects.pyx\u001b[0m in \u001b[0;36mh5py._objects.with_phil.wrapper\u001b[0;34m()\u001b[0m\n",
      "\u001b[0;32mh5py/h5f.pyx\u001b[0m in \u001b[0;36mh5py.h5f.open\u001b[0;34m()\u001b[0m\n",
      "\u001b[0;31mOSError\u001b[0m: Unable to open file (unable to lock file, errno = 35, error message = 'Resource temporarily unavailable')",
      "\nDuring handling of the above exception, another exception occurred:\n",
      "\u001b[0;31mOSError\u001b[0m                                   Traceback (most recent call last)",
      "\u001b[0;32m<ipython-input-3-08493fbbb047>\u001b[0m in \u001b[0;36m<module>\u001b[0;34m\u001b[0m\n\u001b[1;32m      2\u001b[0m \u001b[0mtest_file\u001b[0m \u001b[0;34m=\u001b[0m \u001b[0;34m\"kaggle_data/X_test.h5/X_test.h5\"\u001b[0m\u001b[0;34m\u001b[0m\u001b[0;34m\u001b[0m\u001b[0m\n\u001b[1;32m      3\u001b[0m \u001b[0;34m\u001b[0m\u001b[0m\n\u001b[0;32m----> 4\u001b[0;31m \u001b[0mh5_train\u001b[0m \u001b[0;34m=\u001b[0m \u001b[0mh5py\u001b[0m\u001b[0;34m.\u001b[0m\u001b[0mFile\u001b[0m\u001b[0;34m(\u001b[0m\u001b[0mtrain_file\u001b[0m\u001b[0;34m,\u001b[0m \u001b[0mmode\u001b[0m\u001b[0;34m=\u001b[0m\u001b[0;34m'a'\u001b[0m\u001b[0;34m)\u001b[0m\u001b[0;34m\u001b[0m\u001b[0;34m\u001b[0m\u001b[0m\n\u001b[0m\u001b[1;32m      5\u001b[0m \u001b[0mh5_test\u001b[0m \u001b[0;34m=\u001b[0m \u001b[0mh5py\u001b[0m\u001b[0;34m.\u001b[0m\u001b[0mFile\u001b[0m\u001b[0;34m(\u001b[0m\u001b[0mtest_file\u001b[0m\u001b[0;34m,\u001b[0m \u001b[0mmode\u001b[0m\u001b[0;34m=\u001b[0m\u001b[0;34m'a'\u001b[0m\u001b[0;34m)\u001b[0m\u001b[0;34m\u001b[0m\u001b[0;34m\u001b[0m\u001b[0m\n\u001b[1;32m      6\u001b[0m \u001b[0;34m\u001b[0m\u001b[0m\n",
      "\u001b[0;32m~/opt/anaconda3/lib/python3.8/site-packages/h5py/_hl/files.py\u001b[0m in \u001b[0;36m__init__\u001b[0;34m(self, name, mode, driver, libver, userblock_size, swmr, rdcc_nslots, rdcc_nbytes, rdcc_w0, track_order, **kwds)\u001b[0m\n\u001b[1;32m    404\u001b[0m             \u001b[0;32mwith\u001b[0m \u001b[0mphil\u001b[0m\u001b[0;34m:\u001b[0m\u001b[0;34m\u001b[0m\u001b[0;34m\u001b[0m\u001b[0m\n\u001b[1;32m    405\u001b[0m                 \u001b[0mfapl\u001b[0m \u001b[0;34m=\u001b[0m \u001b[0mmake_fapl\u001b[0m\u001b[0;34m(\u001b[0m\u001b[0mdriver\u001b[0m\u001b[0;34m,\u001b[0m \u001b[0mlibver\u001b[0m\u001b[0;34m,\u001b[0m \u001b[0mrdcc_nslots\u001b[0m\u001b[0;34m,\u001b[0m \u001b[0mrdcc_nbytes\u001b[0m\u001b[0;34m,\u001b[0m \u001b[0mrdcc_w0\u001b[0m\u001b[0;34m,\u001b[0m \u001b[0;34m**\u001b[0m\u001b[0mkwds\u001b[0m\u001b[0;34m)\u001b[0m\u001b[0;34m\u001b[0m\u001b[0;34m\u001b[0m\u001b[0m\n\u001b[0;32m--> 406\u001b[0;31m                 fid = make_fid(name, mode, userblock_size,\n\u001b[0m\u001b[1;32m    407\u001b[0m                                \u001b[0mfapl\u001b[0m\u001b[0;34m,\u001b[0m \u001b[0mfcpl\u001b[0m\u001b[0;34m=\u001b[0m\u001b[0mmake_fcpl\u001b[0m\u001b[0;34m(\u001b[0m\u001b[0mtrack_order\u001b[0m\u001b[0;34m=\u001b[0m\u001b[0mtrack_order\u001b[0m\u001b[0;34m)\u001b[0m\u001b[0;34m,\u001b[0m\u001b[0;34m\u001b[0m\u001b[0;34m\u001b[0m\u001b[0m\n\u001b[1;32m    408\u001b[0m                                swmr=swmr)\n",
      "\u001b[0;32m~/opt/anaconda3/lib/python3.8/site-packages/h5py/_hl/files.py\u001b[0m in \u001b[0;36mmake_fid\u001b[0;34m(name, mode, userblock_size, fapl, fcpl, swmr)\u001b[0m\n\u001b[1;32m    185\u001b[0m             \u001b[0mfid\u001b[0m \u001b[0;34m=\u001b[0m \u001b[0mh5f\u001b[0m\u001b[0;34m.\u001b[0m\u001b[0mopen\u001b[0m\u001b[0;34m(\u001b[0m\u001b[0mname\u001b[0m\u001b[0;34m,\u001b[0m \u001b[0mh5f\u001b[0m\u001b[0;34m.\u001b[0m\u001b[0mACC_RDWR\u001b[0m\u001b[0;34m,\u001b[0m \u001b[0mfapl\u001b[0m\u001b[0;34m=\u001b[0m\u001b[0mfapl\u001b[0m\u001b[0;34m)\u001b[0m\u001b[0;34m\u001b[0m\u001b[0;34m\u001b[0m\u001b[0m\n\u001b[1;32m    186\u001b[0m         \u001b[0;32mexcept\u001b[0m \u001b[0mIOError\u001b[0m\u001b[0;34m:\u001b[0m\u001b[0;34m\u001b[0m\u001b[0;34m\u001b[0m\u001b[0m\n\u001b[0;32m--> 187\u001b[0;31m             \u001b[0mfid\u001b[0m \u001b[0;34m=\u001b[0m \u001b[0mh5f\u001b[0m\u001b[0;34m.\u001b[0m\u001b[0mcreate\u001b[0m\u001b[0;34m(\u001b[0m\u001b[0mname\u001b[0m\u001b[0;34m,\u001b[0m \u001b[0mh5f\u001b[0m\u001b[0;34m.\u001b[0m\u001b[0mACC_EXCL\u001b[0m\u001b[0;34m,\u001b[0m \u001b[0mfapl\u001b[0m\u001b[0;34m=\u001b[0m\u001b[0mfapl\u001b[0m\u001b[0;34m,\u001b[0m \u001b[0mfcpl\u001b[0m\u001b[0;34m=\u001b[0m\u001b[0mfcpl\u001b[0m\u001b[0;34m)\u001b[0m\u001b[0;34m\u001b[0m\u001b[0;34m\u001b[0m\u001b[0m\n\u001b[0m\u001b[1;32m    188\u001b[0m     \u001b[0;32melif\u001b[0m \u001b[0mmode\u001b[0m \u001b[0;32mis\u001b[0m \u001b[0;32mNone\u001b[0m\u001b[0;34m:\u001b[0m\u001b[0;34m\u001b[0m\u001b[0;34m\u001b[0m\u001b[0m\n\u001b[1;32m    189\u001b[0m         warn(\"The default file mode will change to 'r' (read-only) in h5py 3.0. \"\n",
      "\u001b[0;32mh5py/_objects.pyx\u001b[0m in \u001b[0;36mh5py._objects.with_phil.wrapper\u001b[0;34m()\u001b[0m\n",
      "\u001b[0;32mh5py/_objects.pyx\u001b[0m in \u001b[0;36mh5py._objects.with_phil.wrapper\u001b[0;34m()\u001b[0m\n",
      "\u001b[0;32mh5py/h5f.pyx\u001b[0m in \u001b[0;36mh5py.h5f.create\u001b[0;34m()\u001b[0m\n",
      "\u001b[0;31mOSError\u001b[0m: Unable to create file (unable to open file: name = 'kaggle_data/X_train.h5/X_train.h5', errno = 17, error message = 'File exists', flags = 15, o_flags = a02)"
     ]
    }
   ],
   "source": [
    "train_file = \"kaggle_data/X_train.h5/X_train.h5\"\n",
    "test_file = \"kaggle_data/X_test.h5/X_test.h5\"\n",
    "\n",
    "h5_train = h5py.File(train_file, mode='a')\n",
    "h5_test = h5py.File(test_file, mode='a')\n",
    "\n",
    "y_train = pd.read_csv(\"kaggle_data/y_train.csv\", index_col=0, squeeze=True)\n",
    "y_train_arr = y_train.to_numpy()\n",
    "\n",
    "# MAKE FEATURES\n",
    "from additional_features.make_features import make_all_features\n",
    "make_all_features(h5_train,h5_test,overwrite=False, verbose=True)"
   ]
  },
  {
   "cell_type": "code",
   "execution_count": 97,
   "metadata": {},
   "outputs": [
    {
     "name": "stdout",
     "output_type": "stream",
     "text": [
      "FEATURES (sorted) = ['accel_norm', 'accel_norm_ft_logmod', 'alpha_eeg_1_logE', 'alpha_eeg_2_logE', 'alpha_eeg_3_logE', 'alpha_eeg_4_logE', 'alpha_eeg_5_logE', 'alpha_eeg_6_logE', 'alpha_eeg_7_logE', 'beta_eeg_1_logE', 'beta_eeg_2_logE', 'beta_eeg_3_logE', 'beta_eeg_4_logE', 'beta_eeg_5_logE', 'beta_eeg_6_logE', 'beta_eeg_7_logE', 'delta_eeg_1_logE', 'delta_eeg_2_logE', 'delta_eeg_3_logE', 'delta_eeg_4_logE', 'delta_eeg_5_logE', 'delta_eeg_6_logE', 'delta_eeg_7_logE', 'eeg_1', 'eeg_1_ft_logmod', 'eeg_2', 'eeg_2_ft_logmod', 'eeg_3', 'eeg_3_ft_logmod', 'eeg_4', 'eeg_4_ft_logmod', 'eeg_5', 'eeg_5_ft_logmod', 'eeg_6', 'eeg_6_ft_logmod', 'eeg_7', 'eeg_7_ft_logmod', 'pulse', 'pulse_ft_logmod', 'pulse_max_freq', 'pulse_max_logE', 'sleep_left', 'sleep_time', 'sleep_time_relative', 'speed_norm', 'speed_norm_ft_logmod', 'theta_eeg_1_logE', 'theta_eeg_2_logE', 'theta_eeg_3_logE', 'theta_eeg_4_logE', 'theta_eeg_5_logE', 'theta_eeg_6_logE', 'theta_eeg_7_logE']\n",
      "53\n"
     ]
    }
   ],
   "source": [
    "IRRELEVANT_FEATURES = ['index', 'index_absolute', 'index_window',\n",
    "                       'x', 'y', 'z',\n",
    "                       'speed_x', 'speed_y', 'speed_z',\n",
    "                       #'eeg_1', 'eeg_2','eeg_3','eeg_4','eeg_5', 'eeg_6', 'eeg_7',\n",
    "                       #'pulse',\n",
    "                      ]\n",
    "\n",
    "def update_globals():\n",
    "    features = [feat for feat in h5_train.keys() if feat not in IRRELEVANT_FEATURES]\n",
    "    frequencies = {feat: h5_train[feat][0].size // 30 for feat in features}\n",
    "    frequencies = {feat: freq if int(freq) in (10, 50) else 0 \n",
    "                   for feat, freq in frequencies.items()}\n",
    "    return features, frequencies\n",
    "    \n",
    "FEATURES, FREQUENCIES = update_globals()\n",
    "print(\"FEATURES (sorted) =\", sorted(FEATURES))\n",
    "# print(\"FREQUENCIES =\", FREQUENCIES)\n",
    "print(len(FEATURES))"
   ]
  },
  {
   "cell_type": "code",
   "execution_count": 101,
   "metadata": {},
   "outputs": [],
   "source": [
    "from additional_features.make_features import make_all_features\n",
    "\n",
    "make_all_features(h5_train)\n"
   ]
  },
  {
   "cell_type": "code",
   "execution_count": 102,
   "metadata": {},
   "outputs": [],
   "source": [
    "FEATURES, FREQUENCIES = update_globals()"
   ]
  },
  {
   "cell_type": "code",
   "execution_count": 103,
   "metadata": {},
   "outputs": [
    {
     "name": "stdout",
     "output_type": "stream",
     "text": [
      "62/62\u001b[1K\r"
     ]
    }
   ],
   "source": [
    "#def ensure_integrity(h5_file):\n",
    "#    keys = list(h5_file.keys())\n",
    "#    for i, key in enumerate(keys):\n",
    "#        print_bis(f'{i+1}/{len(keys)}')\n",
    "#        x = h5_file[key][:]\n",
    "#        assert np.sum(np.isnan(x)) == 0\n",
    "#        assert np.sum(np.isinf(x)) == 0\n",
    "        \n",
    "#ensure_integrity(h5_train)\n",
    "#ensure_integrity(h5_test)"
   ]
  },
  {
   "cell_type": "markdown",
   "metadata": {},
   "source": [
    "## VISUALIZATION"
   ]
  },
  {
   "cell_type": "code",
   "execution_count": 104,
   "metadata": {
    "scrolled": true
   },
   "outputs": [],
   "source": [
    "def robust_rescale(df):\n",
    "    \"\"\"\n",
    "    X_rescaled = (X - MED(X)) / MED(|X - MED(X)|)\n",
    "    \"\"\"\n",
    "    med = df.median()\n",
    "    med_spread = (df - df.median()).abs().median()\n",
    "    # df_rescaled = (df - med) / med_spread\n",
    "    return (df - med) / med_spread\n",
    "\n",
    "def min_max_rescale(df):\n",
    "    min_ = df.min()\n",
    "    max_ = df.max()\n",
    "    return (df - min_) / (max_ - min_)\n",
    "    \n",
    "def z_rescale(df): \n",
    "    mean = df.mean()\n",
    "    std = df.std()\n",
    "    return (df - mean) / std\n",
    "\n",
    "def get_fig_subjects():\n",
    "    fig, axes = plt.subplots(10, 3, figsize=(10, 40))\n",
    "    return fig, np.ravel(axes)\n",
    "\n",
    "def title_with_subject_id(ax, subject_id):\n",
    "    ax.set_title(f'SUBJECT #{subject_id}')\n",
    "    return None\n",
    "\n",
    "def save_feature_quantiles(feature,\n",
    "                           inf_qt=0.025,\n",
    "                           sup_qt=0.975,\n",
    "                           n_quantiles=21,\n",
    "                           robust_rescaling=False,\n",
    "                           overwrite=False,\n",
    "                           verbose=True):\n",
    "    \"\"\"\n",
    "    See pictures/quantile_plots\n",
    "    \n",
    "    Can be improved (make robust and not robust qplots simultaneously)\n",
    "    \"\"\"\n",
    "    # Make directory if it does not exist\n",
    "    qplot_dir = os.path.join(PICTURES_FOLDER, f\"quantile_plots\")\n",
    "    os.makedirs(qplot_dir, exist_ok=True)\n",
    "    # Escape if not overwrite and already done\n",
    "    qplot_fname = os.path.join(qplot_dir, f'{feature}{\"--rescaled\" if robust_rescaling else \"\"}.png')\n",
    "    if (not overwrite) and os.path.exists(qplot_fname):\n",
    "        return None\n",
    "    # Otherwise,\n",
    "    subject_ids = get_subject_ids(h5_train)\n",
    "    quantiles = np.linspace(inf_qt, sup_qt, n_quantiles).round(3)\n",
    "    subjects_quantiles = dict()\n",
    "    for cnt, sid in enumerate(subject_ids):\n",
    "        if verbose:\n",
    "            print_bis(f\"FEATURE #{FEATURES.index(feature)} SUBJECT {cnt+1}/{len(subject_ids)} (RESCALE = {str(robust_rescaling)})\")\n",
    "        # Robust representation of the signal\n",
    "        signal = get_subject_feature_signals(h5_train, sid, feature, frequencies_dict=FREQUENCIES, as_timeseries=False)\n",
    "        size = signal[0].size\n",
    "        signal = pd.Series(np.concatenate(signal))\n",
    "        if robust_rescaling:\n",
    "            signal = robust_rescale(signal)\n",
    "        # Behaviour by sleep stage\n",
    "        sleep_stages = get_subject_sleep_stage(sid, h5_train, y_train).values\n",
    "        signal_by_stage = signal.groupby(np.repeat(sleep_stages, size))\n",
    "        subjects_quantiles[sid] = signal_by_stage.quantile(quantiles).unstack(0)\n",
    "        \n",
    "    fig, axes = get_fig_subjects()\n",
    "    for ax, sid in zip(axes, subject_ids):\n",
    "        subjects_quantiles[sid].plot(ax=ax)#, color=SLEEP_STAGES_COLORS)\n",
    "        title_with_subject_id(ax, sid)\n",
    "    plt.savefig(qplot_fname)\n",
    "    plt.close(fig)\n",
    "    return subjects_quantiles\n",
    "\n",
    "\n",
    "# TO WRITE QUANTILE PLOTS IN pictures/quantile_plots\n",
    "#for i, feat in enumerate(FEATURES):\n",
    "    # print_ter(f\"========= FEATURE {i+1}/{len(FEATURES)} =========\")\n",
    "#    save_feature_quantiles(feat, robust_rescaling=False, overwrite=False, verbose=True)\n",
    "#    save_feature_quantiles(feat, robust_rescaling=True, overwrite=False, verbose=True)\n"
   ]
  },
  {
   "cell_type": "code",
   "execution_count": 105,
   "metadata": {
    "scrolled": true
   },
   "outputs": [],
   "source": [
    "def get_proba_transition(subject_id=None):\n",
    "    if subject_id:\n",
    "        start, end = get_subject_boundaries(h5_train, subject_id, ready_to_use=False)\n",
    "        y = y_train.loc[start:end]\n",
    "    else: # all subjects\n",
    "        y = y_train.loc[:]\n",
    "    transition_df = pd.DataFrame(data={\"stage\": y, \"stage_after\": y.shift(-1)})\n",
    "    transition_df = transition_df.iloc[:-1] # NaN\n",
    "    transition_df = transition_df.astype(int)\n",
    "    counts = transition_df.groupby([\"stage\", \"stage_after\"]).size()\n",
    "    counts = counts.unstack(1, fill_value=0)\n",
    "    probas = counts.div(counts.sum(axis=1), axis=0)\n",
    "    probas = probas.reindex(range(0, 5), axis=0, fill_value=0)\n",
    "    probas = probas.reindex(range(0, 5), axis=1, fill_value=0)\n",
    "    return probas\n",
    "\n",
    "transition_plots_dir = os.path.join(PICTURES_FOLDER, \"transition_plots\")\n",
    "os.makedirs(transition_plots_dir, exist_ok=True)\n",
    "\n",
    "def save_transition_plots_by_subject(overwrite=False, verbose=True):\n",
    "    fpath = os.path.join(transition_plots_dir, \"transition_matrix_by_subject.png\")\n",
    "    if (not overwrite) and os.path.exists(fpath):\n",
    "        return None\n",
    "    subject_ids = get_subject_ids(h5_train)\n",
    "    fig, axes = get_fig_subjects()\n",
    "    for ax, sid in zip(axes, subject_ids):\n",
    "        if verbose:\n",
    "            print_bis(f\"SUBJECT #{sid}\")\n",
    "        probas = get_proba_transition(subject_id=sid)\n",
    "        sns.heatmap(probas, ax=ax, vmin=0, vmax=1, annot=True)\n",
    "        title_with_subject_id(ax, sid)\n",
    "    fig.tight_layout()\n",
    "    fig.savefig(fpath)\n",
    "    plt.close(fig)    \n",
    "    return None\n",
    "\n",
    "def save_transition_plot_global(overwrite=False):\n",
    "    fpath = os.path.join(transition_plots_dir, \"transition_matrix_global.png\")\n",
    "    if (not overwrite) and os.path.exists(fpath):\n",
    "        return None\n",
    "    proba_global = get_proba_transition()\n",
    "    fig, ax = plt.subplots()\n",
    "    sns.heatmap(proba_global, ax=ax, vmin=0, vmax=1, annot=True)\n",
    "    fig.savefig(fpath)\n",
    "    plt.close(fig)\n",
    "    return None\n",
    "    \n",
    "save_transition_plots_by_subject(overwrite=False)\n",
    "save_transition_plot_global(overwrite=False)"
   ]
  },
  {
   "cell_type": "code",
   "execution_count": 106,
   "metadata": {},
   "outputs": [
    {
     "data": {
      "image/png": "[encoded data removed]",
      "text/plain": [
       "<Figure size 432x288 with 2 Axes>"
      ]
     },
     "metadata": {
      "needs_background": "light"
     },
     "output_type": "display_data"
    }
   ],
   "source": [
    "log_energies = [feature for feature, freq in FREQUENCIES.items() if freq == 0]\n",
    "log_energies_df = pd.DataFrame({le: h5_train[le][:][:, 0] for le in log_energies})\n",
    "sns.heatmap(log_energies_df.corr(), center=0)\n",
    "plt.show()"
   ]
  },
  {
   "cell_type": "code",
   "execution_count": 107,
   "metadata": {},
   "outputs": [
    {
     "data": {
      "text/plain": [
       "0    3511\n",
       "1    1671\n",
       "2    9449\n",
       "3    5224\n",
       "4    4833\n",
       "Name: sleep_stage, dtype: int64"
      ]
     },
     "execution_count": 107,
     "metadata": {},
     "output_type": "execute_result"
    }
   ],
   "source": [
    "sleep_stages_frequencies = y_train.groupby(y_train.values).count()\n",
    "sleep_stages_frequencies"
   ]
  },
  {
   "cell_type": "markdown",
   "metadata": {},
   "source": [
    "### 1. RANDOM FOREST"
   ]
  },
  {
   "cell_type": "code",
   "execution_count": 108,
   "metadata": {},
   "outputs": [],
   "source": [
    "# Features are of 3 kinds\n",
    "\n",
    "TIME_FEATURES = ['accel_norm', 'eeg_1', 'eeg_2', 'eeg_3', 'eeg_4', 'eeg_5', 'eeg_6', 'eeg_7', 'pulse', 'speed_norm']\n",
    "SPECTRAL_FEATURES = [f\"{time_feat}_ft_logmod\" for time_feat in TIME_FEATURES]\n",
    "MONO_FEATURES = [feat for feat in FEATURES if h5_train[feat][0].shape[0] == 1]\n",
    "\n",
    "assert set(MONO_FEATURES).union(set(TIME_FEATURES)).union(set(SPECTRAL_FEATURES)) ==  set(FEATURES) \n"
   ]
  },
  {
   "cell_type": "code",
   "execution_count": 109,
   "metadata": {},
   "outputs": [],
   "source": [
    "# Quantiles \n",
    "\n",
    "LOWER_TAIL_QUANTILES = [0.01, 0.025, 0.05]\n",
    "DECILES = [0.1, 0.2, 0.3, 0.4, 0.5, 0.6, 0.7, 0.8, 0.9]\n",
    "UPPER_TAIL_QUANTILES = [0.95, 0.975, 0.99]\n",
    "\n",
    "QUANTILES = LOWER_TAIL_QUANTILES + DECILES + UPPER_TAIL_QUANTILES\n",
    "TAIL_QUANTILES = LOWER_TAIL_QUANTILES + UPPER_TAIL_QUANTILES\n"
   ]
  },
  {
   "cell_type": "code",
   "execution_count": 110,
   "metadata": {},
   "outputs": [],
   "source": [
    "# Helper to create input array\n",
    "\n",
    "# See pywavelets [https://pywavelets.readthedocs.io/en/latest/] for wavelet transform\n",
    "\n",
    "# Extreme values of features have been used --> extreme quantiles are a good idea\n",
    "\n",
    "# It is said in the study that there is a need for large samples to have correct resolution in frequency\n",
    "#    ---> make chunks of 30s windows ??\n",
    "\n",
    "\n",
    "def get_distribution_quantiles(arr, quantiles, **kwargs):\n",
    "    return np.quantile(arr, q=quantiles, axis=1, **kwargs).T\n",
    "\n",
    "\n",
    "def get_distribution_characteristics(arr, truncate_dist=False):\n",
    "    \"\"\"\n",
    "    mean, variance, skewness, kurtosis\n",
    "    \"\"\"\n",
    "    if truncate_dist:\n",
    "        inf = get_distribution_quantiles(arr, 0.005, keepdims=True)\n",
    "        sup = get_distribution_quantiles(arr, 0.995, keepdims=True)\n",
    "        return get_distribution_quantiles(np.clip(arr, inf, sup), truncate_dist=False)\n",
    "    res = np.empty(shape=(arr.shape[0], 4))\n",
    "    res[:, 0] = np.mean(arr, axis=1, keepdims=False) # mean [order 1]\n",
    "    res[:, 1] = np.mean((arr - res[:, [0]]) ** 2, axis=1, keepdims=False) # variance [order 2]\n",
    "    z_var = ( arr - res[:, [0]] ) / res[:, [1]] \n",
    "    res[:, 2] = np.mean(z_var ** 3, axis=1, keepdims=False) # skewness [order 3]\n",
    "    res[:, 3] = np.mean(z_var ** 4, axis=1, keepdims=False) # kurtosis [order 4]\n",
    "    return res\n",
    "\n",
    "\n",
    "def _make_input_multidimensional_feature_chunk(sequences, quantiles=QUANTILES, dist_char=True, truncate_dist=False):\n",
    "    n_samples = sequences.shape[0]\n",
    "    n_cols = len(quantiles) * int(len(quantiles) > 0) + 4 * int(dist_char)\n",
    "    assert n_cols > 0\n",
    "    res = np.empty(shape=(n_samples, n_cols))\n",
    "    res[:, :len(quantiles)] = get_distribution_quantiles(sequences, quantiles)\n",
    "    if dist_char:\n",
    "        res[:, -4:] = get_distribution_characteristics(sequences, truncate_dist=truncate_dist)\n",
    "    return res\n",
    "        \n",
    "\n",
    "def make_input_multidimensional_feature(h5_file, \n",
    "                                        feature, \n",
    "                                        quantiles=QUANTILES, \n",
    "                                        dist_char=True,\n",
    "                                        truncate_dist=False,\n",
    "                                        n_chunks=100):\n",
    "    n_cols = len(quantiles) * int(len(quantiles) > 0) + 4 * int(dist_char)\n",
    "    feature_array = np.empty(shape=(h5_file[feature].shape[0], n_cols))\n",
    "    columns = [(feature, str(q)) for q in quantiles] + [(feature, mom) for mom in range(1,5) if dist_char]\n",
    "    \n",
    "    for i, j in chunks_iterator(n_chunks, h5_file[feature].shape[0]):\n",
    "        feature_array[i:j, :] = _make_input_multidimensional_feature_chunk(\n",
    "            h5_file[feature][i:j], quantiles, dist_char, truncate_dist)\n",
    "        \n",
    "    return feature_array, columns\n",
    "\n",
    "\n",
    "### Rescaling\n",
    "from sklearn.preprocessing import StandardScaler \n",
    "# already robust on not logE features because we take quantiles\n",
    "# --> StandardScaler \n",
    "\n",
    "def make_input(h5_file, features=FEATURES, quantiles=QUANTILES, dist_char=True, truncate_dist=False, rescale=True):\n",
    "    n_mono = sum([feat in MONO_FEATURES for feat in features])\n",
    "    n_cols_multi = len(quantiles) + 4 * int(dist_char)\n",
    "    n_cols = n_mono + n_cols_multi * (len(features) - n_mono)\n",
    "    input_arr = np.empty(shape=(h5_file[\"index\"].shape[0], n_cols))\n",
    "    i = 0\n",
    "    columns = list()\n",
    "    for cnt, feat in enumerate(features):\n",
    "        print_bis(f\"Feature #{cnt}/{len(features)}\")\n",
    "        if feat in MONO_FEATURES:\n",
    "            input_arr[:, [i]] = h5_file[feat][:]\n",
    "            columns = columns + [(feat, \"\")]\n",
    "            i += 1\n",
    "        else:\n",
    "            input_arr[:, i:i+n_cols_multi], cols = make_input_multidimensional_feature(\n",
    "                h5_file, feat, quantiles, dist_char, truncate_dist)\n",
    "            columns = columns + cols\n",
    "            i += n_cols_multi\n",
    "    if rescale:\n",
    "        ids = get_subject_ids(h5_file)\n",
    "        for id in ids:\n",
    "            indices = subjects_ids_to_indexers(h5_file, [id], as_indices=True, as_boolean_array=False)\n",
    "            z_scaler = StandardScaler()\n",
    "            input_arr[indices,:] = z_scaler.fit_transform(input_arr[indices,:])            \n",
    "    return pd.DataFrame(input_arr, columns=pd.MultiIndex.from_tuples(columns))\n",
    "\n",
    "\n",
    "\n",
    "\n",
    "\n"
   ]
  },
  {
   "cell_type": "code",
   "execution_count": 111,
   "metadata": {},
   "outputs": [],
   "source": [
    "# SPLIT TRAIN / CROSS VALIDATION\n",
    "\n",
    "def split_train_validation_subject_ids(train_perc, seed=None):\n",
    "    np.random.seed(seed)\n",
    "    subjects_ids = get_subject_ids(h5_train)\n",
    "    shuffled_ids = np.random.permutation(subjects_ids)\n",
    "    N_train = int(np.round(train_perc * len(shuffled_ids)))\n",
    "    train_ids, validation_ids = shuffled_ids[:N_train], shuffled_ids[N_train:]\n",
    "    return sorted(train_ids), sorted(validation_ids)\n",
    "\n",
    "def subjects_ids_to_indexers(h5_file, subjects_ids, as_indices=False, as_boolean_array=False):\n",
    "    if as_indices == as_boolean_array:\n",
    "        raise NameError('Choose between `indices` and `boolean array` representations')\n",
    "    if as_indices:\n",
    "        boundaries = [get_subject_boundaries(h5_file, sid, ready_to_use=False) for sid in subjects_ids]\n",
    "        return sum(map(lambda bounds: list(range(bounds[0], bounds[1]+1)), boundaries), list())\n",
    "    if as_boolean_array:\n",
    "        boolean_indexer = np.zeros(shape=(h5_file[FEATURES[0]].shape[0],), dtype=bool)\n",
    "        for sid in subjects_ids:\n",
    "            boolean_indexer[get_subject_boundaries(h5_file, sid, ready_to_use=True)] = True\n",
    "        return boolean_indexer\n",
    "        \n",
    "    \n",
    "def split_train_validation(X_train, \n",
    "                           train_subjects_ids=None, # ids for train\n",
    "                           train_perc=None,\n",
    "                           seed=None):\n",
    "    if (train_subjects_ids is None) and (train_perc is None):\n",
    "        raise NameError(\"Either `subjects_ids` or `train_perc` must be provided\")\n",
    "    if train_perc is not None:\n",
    "        train_subjects_ids, _ = split_train_validation_subject_ids(train_perc, seed)\n",
    "        return split_train_validation(X_train, train_subjects_ids=train_subjects_ids)\n",
    "    \n",
    "    train_selector = subjects_ids_to_indexers(h5_train, train_subjects_ids, as_boolean_array=True)\n",
    "    X_train_train, y_train_train = X_train[train_selector], y_train.values[train_selector]\n",
    "    X_train_val, y_train_val = X_train[~train_selector], y_train.values[~train_selector]\n",
    "    \n",
    "    return X_train_train, y_train_train, X_train_val, y_train_val"
   ]
  },
  {
   "cell_type": "code",
   "execution_count": 112,
   "metadata": {},
   "outputs": [],
   "source": [
    "import time\n",
    "from sklearn.model_selection import ParameterGrid\n",
    "from sklearn.metrics import fbeta_score\n",
    "\n",
    "def get_eta_repr(elapsed, iteration, total_iterations):\n",
    "    if iteration == 0:\n",
    "        return \"?\"\n",
    "    else:\n",
    "        eta = (elapsed / iteration) * (total_iterations - iteration)\n",
    "        return str(np.round(eta, 2)) + \"s\"\n",
    "    \n",
    "    \n",
    "def train_on_grid(model_blueprint, params_grid, X, y):\n",
    "    # Random shuffling of parameters for better ETA\n",
    "    shuffled_ix = np.random.permutation(range(len(params_grid))) # for better ETA\n",
    "    \n",
    "    models = [None for _ in range(len(params_grid))] \n",
    "    elapsed_time = 0\n",
    "    time_start = time.time()\n",
    "\n",
    "    for i, ix in enumerate(shuffled_ix):\n",
    "        print_bis(f\"Training Model #{i+1}/{len(params_grid)} \" +\\\n",
    "                  f\"[ETA: {get_eta_repr(time.time() - time_start, i, len(params_grid))}]\")\n",
    "        model = model_blueprint(**params_grid[ix])\n",
    "        model.fit(X, y)\n",
    "                \n",
    "        models[ix] = model\n",
    "        \n",
    "    return models"
   ]
  },
  {
   "cell_type": "code",
   "execution_count": 113,
   "metadata": {
    "scrolled": true
   },
   "outputs": [],
   "source": [
    "def custom_score(y_pred, y_true):\n",
    "    return fbeta_score(y_pred=y_pred,\n",
    "                       y_true=y_true,\n",
    "                       labels=[0, 1, 2, 3, 4],\n",
    "                       average=\"weighted\",\n",
    "                       beta=1)\n",
    "\n",
    "def get_models_custom_scoring(models, X_train_train, y_train_train, X_train_val, y_train_val):\n",
    "    scores = list()\n",
    "    time_start = time.time()\n",
    "    \n",
    "    for i, model in enumerate(models):\n",
    "        eta = get_eta_repr(time.time() - time_start, i, len(models))\n",
    "        print_bis(f\"Scoring Model #{i+1}/{len(models)} [ETA: {eta}]\")\n",
    "        \n",
    "        y_train_pred = model.predict(X_train_train)\n",
    "        y_val_pred = model.predict(X_train_val)\n",
    "        model_scores = {\n",
    "            \"training_score\": custom_score(y_train_pred, y_train_train),\n",
    "            \"validation_score\": custom_score(y_val_pred, y_train_val),\n",
    "        }\n",
    "        \n",
    "        \n",
    "        scores.append(model_scores)\n",
    "    return scores\n"
   ]
  },
  {
   "cell_type": "code",
   "execution_count": 114,
   "metadata": {},
   "outputs": [],
   "source": [
    "def get_best_model(models, models_params, models_scores, criterion=\"validation_score\"):\n",
    "    ix_best_score = np.argmax([s[criterion] for s in models_scores])\n",
    "    best_model = models[ix_best_score]\n",
    "    best_model_params = models_params[ix_best_score]\n",
    "    best_model_score = models_scores[ix_best_score]\n",
    "    return best_model, best_model_params, best_model_score\n",
    "\n",
    "def sort_models(models, models_params, models_scores, criterion=\"validation_score\"):\n",
    "    return sorted(zip(models, models_params, models_scores), key=lambda x: x[2][criterion])\n",
    "\n"
   ]
  },
  {
   "cell_type": "code",
   "execution_count": 115,
   "metadata": {},
   "outputs": [],
   "source": [
    "# SAVE MODEL\n",
    "\n",
    "from joblib import dump, load\n",
    "ARCHIVES_FOLDER = \"models_archives\"\n",
    "if not os.path.exists(ARCHIVES_FOLDER):\n",
    "    os.makedirs(ARCHIVES_FOLDER)\n",
    "\n",
    "def save_model(model, name):\n",
    "    fpath = os.path.join(ARCHIVES_FOLDER, f\"{name}.joblib\")\n",
    "    dump(model, fpath)\n",
    "    print(f\"New model saved at {fpath}\")\n",
    "    return fpath\n",
    "    \n",
    "    \n",
    "def load_model(name):\n",
    "    if not name.startswith(ARCHIVES_FOLDER):\n",
    "        name = os.path.join(ARCHIVES_FOLDER, name)\n",
    "    if not name.endswith(\".joblib\"):\n",
    "        name = f\"{name}.joblib\"\n",
    "    model = load(name)\n",
    "    return model\n",
    "\n",
    "LEADERBOARD_FILE = \"leaderboard.txt\"\n",
    "if not os.path.exists(LEADERBOARD_FILE):\n",
    "    with open(LEADERBOARD_FILE, 'a') as leaderboard:\n",
    "        leaderboard.write(\";;;\".join(['path', 'training_score', 'validation_score', 'comments']))\n",
    "    \n",
    "def write_model_to_leaderboard(model, model_name, train_score, val_score, comments=\"\"):\n",
    "    fpath = save_model(model, model_name)\n",
    "    with open(LEADERBOARD_FILE, \"a\") as leaderboard:\n",
    "        leaderboard.write(\"\\n\" + ';;;'.join([fpath, str(train_score), str(val_score), comments]))\n",
    "    \n"
   ]
  },
  {
   "cell_type": "code",
   "execution_count": 116,
   "metadata": {},
   "outputs": [],
   "source": [
    "## Use this later : sklearn.model_selection.HalvingRandomSearchCV\n",
    "\n",
    "\n",
    "from sklearn.svm import SVC\n",
    "\n",
    "\n",
    "def get_inputs(make_input_func, scaler, seed=None):\n",
    "    X_train = make_input_func(h5_train)\n",
    "    X_test = make_input_func(h5_test)\n",
    "\n",
    "    train_ids, validation_ids = split_train_validation_subject_ids(0.7, seed=seed)\n",
    "    X_train_train, y_train_train, X_train_val, y_train_val = split_train_validation(\n",
    "        X_train, train_subjects_ids=train_ids)\n",
    "\n",
    "\n",
    "    X_train_train = scaler.fit_transform(X_train_train)\n",
    "    X_train_val = scaler.transform(X_train_val)\n",
    "    X_test = scaler.transform(X_test)\n",
    "    \n",
    "    return X_train_train, y_train_train, X_train_val, y_train_val, X_test\n",
    "\n",
    "\n",
    "def train_until_convergence(models, X, y, verbose=True):\n",
    "    time_start = time.time()\n",
    "    for i, model in enumerate(models):\n",
    "        print_bis(f\"TRAINING UNTIL CONVERGENCE : MODEL #{i+1}/{len(models)} [ETA: {get_eta_repr(time.time() - time_start, i, len(models))}\")\n",
    "        model.set_params(max_iter=-1)\n",
    "        model.fit(X, y)\n",
    "    return models\n",
    "        \n",
    "\n",
    "def svm_no_PCA_selector( ## A REFAIRE AVEC LA DEUXIEME SELECTION SUR UN AUTRE SET QUE LA CROSS VALIDATION\n",
    "    make_input_func,\n",
    "    scaler,\n",
    "    params_grid,\n",
    "    name,\n",
    "    comments=\"\",\n",
    "    select=3,\n",
    "    max_iter=1000,\n",
    "    seed=None):\n",
    "    \n",
    "    params_grid_bounded = [{k: v for k, v in pg.items()} for pg in params_grid]\n",
    "    for d in params_grid_bounded:\n",
    "        d[\"max_iter\"] = max_iter\n",
    "    \n",
    "    X_train_train, y_train_train, X_train_val, y_train_val, X_test = \\\n",
    "        get_inputs_svm(make_input_func, scaler, seed=seed)\n",
    "   \n",
    "\n",
    "    # Hyperparameters space exploration\n",
    "\n",
    "    # Training\n",
    "    print(\"-------- (PRE-)TRAINING --------\")\n",
    "    svm_models = train_on_grid(SVC, params_grid_bounded, X_train_train, y_train_train)\n",
    "\n",
    "    # Scoring\n",
    "    print_ter(\"-------- CROSS-VALIDATION --------\")\n",
    "    svm_scores = get_models_custom_scoring(svm_models, X_train_train, y_train_train, X_train_val, y_train_val)\n",
    "\n",
    "    # Pre-Selecting\n",
    "    print_ter(\"-------- SELECTION --------\")\n",
    "    sorted_models = sort_models(svm_models, params_grid_bounded, svm_scores, criterion=\"validation_score\")\n",
    "    candidates = sorted_models[-select:]\n",
    "    candidates = [model for model, params, score in candidates]\n",
    "    \n",
    "    # Train until convergence\n",
    "    print_ter(\"-------- TRAINING CANDIDATES UNTIL CONVERGENCE --------\")\n",
    "    candidates_at_cvg = train_until_convergence(candidates, X_train_train, y_train_train)\n",
    "    \n",
    "    print_ter(\"-------- FINDING THE BEST MODEL --------\")\n",
    "    scores_at_cvg = get_models_custom_scoring(\n",
    "        candidates_at_cvg, X_train_train, y_train_train, X_train_val, y_train_val)\n",
    "    candidates_params = [cdt.get_params() for cdt in candidates_at_cvg]\n",
    "    \n",
    "    best_svm, best_svm_params, best_svm_scores =\\\n",
    "        get_best_model(candidates_at_cvg, candidates_params, scores_at_cvg, criterion=\"validation_score\") \n",
    "    \n",
    "    write_model_to_leaderboard(best_svm,\n",
    "                               name,\n",
    "                               best_svm_scores[\"training_score\"],\n",
    "                               best_svm_scores[\"validation_score\"],\n",
    "                               comments=comments\n",
    "                              )\n",
    "    return best_svm\n"
   ]
  },
  {
   "cell_type": "code",
   "execution_count": 117,
   "metadata": {
    "scrolled": true
   },
   "outputs": [
    {
     "ename": "FileNotFoundError",
     "evalue": "[Errno 2] No such file or directory: 'models_archives/svm_extreme_no_PCA.joblib'",
     "output_type": "error",
     "traceback": [
      "\u001b[0;31m---------------------------------------------------------------------------\u001b[0m",
      "\u001b[0;31mFileNotFoundError\u001b[0m                         Traceback (most recent call last)",
      "\u001b[0;32m<ipython-input-117-dadec0ac6e28>\u001b[0m in \u001b[0;36m<module>\u001b[0;34m\u001b[0m\n\u001b[1;32m     35\u001b[0m         seed=101)\n\u001b[1;32m     36\u001b[0m \u001b[0;34m\u001b[0m\u001b[0m\n\u001b[0;32m---> 37\u001b[0;31m \u001b[0mbest_svm_extreme\u001b[0m \u001b[0;34m=\u001b[0m \u001b[0mload_model\u001b[0m\u001b[0;34m(\u001b[0m\u001b[0;34m'svm_extreme_no_PCA'\u001b[0m\u001b[0;34m)\u001b[0m\u001b[0;34m\u001b[0m\u001b[0;34m\u001b[0m\u001b[0m\n\u001b[0m",
      "\u001b[0;32m<ipython-input-115-ad1d7e3069a9>\u001b[0m in \u001b[0;36mload_model\u001b[0;34m(name)\u001b[0m\n\u001b[1;32m     18\u001b[0m     \u001b[0;32mif\u001b[0m \u001b[0;32mnot\u001b[0m \u001b[0mname\u001b[0m\u001b[0;34m.\u001b[0m\u001b[0mendswith\u001b[0m\u001b[0;34m(\u001b[0m\u001b[0;34m\".joblib\"\u001b[0m\u001b[0;34m)\u001b[0m\u001b[0;34m:\u001b[0m\u001b[0;34m\u001b[0m\u001b[0;34m\u001b[0m\u001b[0m\n\u001b[1;32m     19\u001b[0m         \u001b[0mname\u001b[0m \u001b[0;34m=\u001b[0m \u001b[0;34mf\"{name}.joblib\"\u001b[0m\u001b[0;34m\u001b[0m\u001b[0;34m\u001b[0m\u001b[0m\n\u001b[0;32m---> 20\u001b[0;31m     \u001b[0mmodel\u001b[0m \u001b[0;34m=\u001b[0m \u001b[0mload\u001b[0m\u001b[0;34m(\u001b[0m\u001b[0mname\u001b[0m\u001b[0;34m)\u001b[0m\u001b[0;34m\u001b[0m\u001b[0;34m\u001b[0m\u001b[0m\n\u001b[0m\u001b[1;32m     21\u001b[0m     \u001b[0;32mreturn\u001b[0m \u001b[0mmodel\u001b[0m\u001b[0;34m\u001b[0m\u001b[0;34m\u001b[0m\u001b[0m\n\u001b[1;32m     22\u001b[0m \u001b[0;34m\u001b[0m\u001b[0m\n",
      "\u001b[0;32m~/opt/anaconda3/lib/python3.8/site-packages/joblib/numpy_pickle.py\u001b[0m in \u001b[0;36mload\u001b[0;34m(filename, mmap_mode)\u001b[0m\n\u001b[1;32m    575\u001b[0m             \u001b[0mobj\u001b[0m \u001b[0;34m=\u001b[0m \u001b[0m_unpickle\u001b[0m\u001b[0;34m(\u001b[0m\u001b[0mfobj\u001b[0m\u001b[0;34m)\u001b[0m\u001b[0;34m\u001b[0m\u001b[0;34m\u001b[0m\u001b[0m\n\u001b[1;32m    576\u001b[0m     \u001b[0;32melse\u001b[0m\u001b[0;34m:\u001b[0m\u001b[0;34m\u001b[0m\u001b[0;34m\u001b[0m\u001b[0m\n\u001b[0;32m--> 577\u001b[0;31m         \u001b[0;32mwith\u001b[0m \u001b[0mopen\u001b[0m\u001b[0;34m(\u001b[0m\u001b[0mfilename\u001b[0m\u001b[0;34m,\u001b[0m \u001b[0;34m'rb'\u001b[0m\u001b[0;34m)\u001b[0m \u001b[0;32mas\u001b[0m \u001b[0mf\u001b[0m\u001b[0;34m:\u001b[0m\u001b[0;34m\u001b[0m\u001b[0;34m\u001b[0m\u001b[0m\n\u001b[0m\u001b[1;32m    578\u001b[0m             \u001b[0;32mwith\u001b[0m \u001b[0m_read_fileobject\u001b[0m\u001b[0;34m(\u001b[0m\u001b[0mf\u001b[0m\u001b[0;34m,\u001b[0m \u001b[0mfilename\u001b[0m\u001b[0;34m,\u001b[0m \u001b[0mmmap_mode\u001b[0m\u001b[0;34m)\u001b[0m \u001b[0;32mas\u001b[0m \u001b[0mfobj\u001b[0m\u001b[0;34m:\u001b[0m\u001b[0;34m\u001b[0m\u001b[0;34m\u001b[0m\u001b[0m\n\u001b[1;32m    579\u001b[0m                 \u001b[0;32mif\u001b[0m \u001b[0misinstance\u001b[0m\u001b[0;34m(\u001b[0m\u001b[0mfobj\u001b[0m\u001b[0;34m,\u001b[0m \u001b[0mstr\u001b[0m\u001b[0;34m)\u001b[0m\u001b[0;34m:\u001b[0m\u001b[0;34m\u001b[0m\u001b[0;34m\u001b[0m\u001b[0m\n",
      "\u001b[0;31mFileNotFoundError\u001b[0m: [Errno 2] No such file or directory: 'models_archives/svm_extreme_no_PCA.joblib'"
     ]
    }
   ],
   "source": [
    "### SVM with only extreme values without PCA\n",
    "from sklearn.preprocessing import StandardScaler \n",
    "\n",
    "CREATE_SVM_EXTREME = False\n",
    "\n",
    "# Create input arrays\n",
    "def make_input_svm_extreme(h5_file):\n",
    "    return make_input(h5_file, features=FEATURES, quantiles=TAIL_QUANTILES, dist_char=False, truncate_dist=False)\n",
    "\n",
    "svm_extreme_params_grid_rbf_and_sigmoid = ParameterGrid(\n",
    "    {\"kernel\": [\"rbf\", \"sigmoid\"],\n",
    "     \"C\": [0.01, 0.1, 1, 10, 100],\n",
    "     \"gamma\": [\"auto\"]\n",
    "    }\n",
    ")\n",
    "\n",
    "svm_extreme_params_grid_polynomial = ParameterGrid(\n",
    "    {\"kernel\": [\"poly\"],\n",
    "     \"C\": [0.1, 1, 10],\n",
    "     \"degree\": [1, 2, 3, 4] #if max_iter != -1\n",
    "    })\n",
    "\n",
    "svm_extreme_params_grid = list(svm_extreme_params_grid_rbf_and_sigmoid) + list(svm_extreme_params_grid_polynomial)\n",
    "\n",
    "if CREATE_SVM_EXTREME:\n",
    "   \n",
    "    svm_no_PCA_selector(\n",
    "        make_input_func=make_input_svm_extreme,\n",
    "        params_grid=svm_extreme_params_grid,\n",
    "        scaler=StandardScaler(),\n",
    "        name='svm_extreme_selected_100',\n",
    "        comments=\"tailing quantiles; no distribution chars; all features; no PCA; seed=101\",\n",
    "        select=5,\n",
    "        max_iter=100,\n",
    "        seed=101)\n",
    "    \n",
    "best_svm_extreme = load_model('svm_extreme_no_PCA')"
   ]
  },
  {
   "cell_type": "code",
   "execution_count": 118,
   "metadata": {
    "scrolled": true
   },
   "outputs": [
    {
     "ename": "FileNotFoundError",
     "evalue": "[Errno 2] No such file or directory: 'models_archives/svm_central_selected_100.joblib'",
     "output_type": "error",
     "traceback": [
      "\u001b[0;31m---------------------------------------------------------------------------\u001b[0m",
      "\u001b[0;31mFileNotFoundError\u001b[0m                         Traceback (most recent call last)",
      "\u001b[0;32m<ipython-input-118-361a387795ae>\u001b[0m in \u001b[0;36m<module>\u001b[0;34m\u001b[0m\n\u001b[1;32m     35\u001b[0m         )\n\u001b[1;32m     36\u001b[0m \u001b[0;34m\u001b[0m\u001b[0m\n\u001b[0;32m---> 37\u001b[0;31m \u001b[0mbest_svm_central\u001b[0m \u001b[0;34m=\u001b[0m \u001b[0mload_model\u001b[0m\u001b[0;34m(\u001b[0m\u001b[0;34m'svm_central_selected_100'\u001b[0m\u001b[0;34m)\u001b[0m\u001b[0;34m\u001b[0m\u001b[0;34m\u001b[0m\u001b[0m\n\u001b[0m\u001b[1;32m     38\u001b[0m \u001b[0;34m\u001b[0m\u001b[0m\n",
      "\u001b[0;32m<ipython-input-115-ad1d7e3069a9>\u001b[0m in \u001b[0;36mload_model\u001b[0;34m(name)\u001b[0m\n\u001b[1;32m     18\u001b[0m     \u001b[0;32mif\u001b[0m \u001b[0;32mnot\u001b[0m \u001b[0mname\u001b[0m\u001b[0;34m.\u001b[0m\u001b[0mendswith\u001b[0m\u001b[0;34m(\u001b[0m\u001b[0;34m\".joblib\"\u001b[0m\u001b[0;34m)\u001b[0m\u001b[0;34m:\u001b[0m\u001b[0;34m\u001b[0m\u001b[0;34m\u001b[0m\u001b[0m\n\u001b[1;32m     19\u001b[0m         \u001b[0mname\u001b[0m \u001b[0;34m=\u001b[0m \u001b[0;34mf\"{name}.joblib\"\u001b[0m\u001b[0;34m\u001b[0m\u001b[0;34m\u001b[0m\u001b[0m\n\u001b[0;32m---> 20\u001b[0;31m     \u001b[0mmodel\u001b[0m \u001b[0;34m=\u001b[0m \u001b[0mload\u001b[0m\u001b[0;34m(\u001b[0m\u001b[0mname\u001b[0m\u001b[0;34m)\u001b[0m\u001b[0;34m\u001b[0m\u001b[0;34m\u001b[0m\u001b[0m\n\u001b[0m\u001b[1;32m     21\u001b[0m     \u001b[0;32mreturn\u001b[0m \u001b[0mmodel\u001b[0m\u001b[0;34m\u001b[0m\u001b[0;34m\u001b[0m\u001b[0m\n\u001b[1;32m     22\u001b[0m \u001b[0;34m\u001b[0m\u001b[0m\n",
      "\u001b[0;32m~/opt/anaconda3/lib/python3.8/site-packages/joblib/numpy_pickle.py\u001b[0m in \u001b[0;36mload\u001b[0;34m(filename, mmap_mode)\u001b[0m\n\u001b[1;32m    575\u001b[0m             \u001b[0mobj\u001b[0m \u001b[0;34m=\u001b[0m \u001b[0m_unpickle\u001b[0m\u001b[0;34m(\u001b[0m\u001b[0mfobj\u001b[0m\u001b[0;34m)\u001b[0m\u001b[0;34m\u001b[0m\u001b[0;34m\u001b[0m\u001b[0m\n\u001b[1;32m    576\u001b[0m     \u001b[0;32melse\u001b[0m\u001b[0;34m:\u001b[0m\u001b[0;34m\u001b[0m\u001b[0;34m\u001b[0m\u001b[0m\n\u001b[0;32m--> 577\u001b[0;31m         \u001b[0;32mwith\u001b[0m \u001b[0mopen\u001b[0m\u001b[0;34m(\u001b[0m\u001b[0mfilename\u001b[0m\u001b[0;34m,\u001b[0m \u001b[0;34m'rb'\u001b[0m\u001b[0;34m)\u001b[0m \u001b[0;32mas\u001b[0m \u001b[0mf\u001b[0m\u001b[0;34m:\u001b[0m\u001b[0;34m\u001b[0m\u001b[0;34m\u001b[0m\u001b[0m\n\u001b[0m\u001b[1;32m    578\u001b[0m             \u001b[0;32mwith\u001b[0m \u001b[0m_read_fileobject\u001b[0m\u001b[0;34m(\u001b[0m\u001b[0mf\u001b[0m\u001b[0;34m,\u001b[0m \u001b[0mfilename\u001b[0m\u001b[0;34m,\u001b[0m \u001b[0mmmap_mode\u001b[0m\u001b[0;34m)\u001b[0m \u001b[0;32mas\u001b[0m \u001b[0mfobj\u001b[0m\u001b[0;34m:\u001b[0m\u001b[0;34m\u001b[0m\u001b[0;34m\u001b[0m\u001b[0m\n\u001b[1;32m    579\u001b[0m                 \u001b[0;32mif\u001b[0m \u001b[0misinstance\u001b[0m\u001b[0;34m(\u001b[0m\u001b[0mfobj\u001b[0m\u001b[0;34m,\u001b[0m \u001b[0mstr\u001b[0m\u001b[0;34m)\u001b[0m\u001b[0;34m:\u001b[0m\u001b[0;34m\u001b[0m\u001b[0;34m\u001b[0m\u001b[0m\n",
      "\u001b[0;31mFileNotFoundError\u001b[0m: [Errno 2] No such file or directory: 'models_archives/svm_central_selected_100.joblib'"
     ]
    }
   ],
   "source": [
    "### SVM with only extreme values without PCA\n",
    "CREATE_SVM_CENTRAL = False\n",
    "\n",
    "# Create input arrays\n",
    "def make_input_svm_central(h5_file):\n",
    "    return make_input(h5_file, features=FEATURES, quantiles=list(), dist_char=True, truncate_dist=True)\n",
    "\n",
    "svm_central_grid_1 = ParameterGrid(\n",
    "    {\"kernel\": [\"rbf\", \"sigmoid\"],\n",
    "     \"C\": [0.01, 0.1, 1, 10, 100],\n",
    "     \"gamma\": [\"auto\", \"scale\"],\n",
    "    }\n",
    ")\n",
    "\n",
    "\n",
    "svm_central_grid_2 = ParameterGrid(\n",
    "    {\"kernel\": [\"poly\"],\n",
    "     \"C\": [0.1, 1, 10],\n",
    "     \"degree\": [1, 2, 3, 4] #if max_iter != -1\n",
    "    })\n",
    "\n",
    "svm_central_grid = list(svm_central_grid_1) + list(svm_central_grid_2)\n",
    "\n",
    "if CREATE_SVM_CENTRAL:\n",
    "    best_svm_central = \\\n",
    "        svm_no_PCA_selector(\n",
    "            make_input_func=make_input_svm_central,\n",
    "            params_grid=svm_central_grid,\n",
    "            scaler=StandardScaler(),\n",
    "            name='svm_central_selected_100',\n",
    "            comments=\"no quantiles; dist chars with truncation; all features; no PCA; seed=101\",\n",
    "            select=5, \n",
    "            max_iter=100,\n",
    "            seed=101\n",
    "        )\n",
    "    \n",
    "best_svm_central = load_model('svm_central_selected_100')\n",
    "    "
   ]
  },
  {
   "cell_type": "code",
   "execution_count": 24,
   "metadata": {},
   "outputs": [
    {
     "name": "stdout",
     "output_type": "stream",
     "text": [
      "-------- (PRE-)TRAINING --------\n",
      "Training Model #1/32 [ETA: ?]\u001b[1K\r"
     ]
    },
    {
     "name": "stderr",
     "output_type": "stream",
     "text": [
      "/Library/Frameworks/Python.framework/Versions/3.7/lib/python3.7/site-packages/sklearn/svm/_base.py:249: ConvergenceWarning: Solver terminated early (max_iter=1000).  Consider pre-processing your data with StandardScaler or MinMaxScaler.\n",
      "  % self.max_iter, ConvergenceWarning)\n"
     ]
    },
    {
     "name": "stdout",
     "output_type": "stream",
     "text": [
      "Training Model #2/32 [ETA: 701.77s]\u001b[1K\r"
     ]
    },
    {
     "name": "stderr",
     "output_type": "stream",
     "text": [
      "/Library/Frameworks/Python.framework/Versions/3.7/lib/python3.7/site-packages/sklearn/svm/_base.py:249: ConvergenceWarning: Solver terminated early (max_iter=1000).  Consider pre-processing your data with StandardScaler or MinMaxScaler.\n",
      "  % self.max_iter, ConvergenceWarning)\n"
     ]
    },
    {
     "name": "stdout",
     "output_type": "stream",
     "text": [
      "Training Model #3/32 [ETA: 563.45s]\u001b[1K\r"
     ]
    },
    {
     "name": "stderr",
     "output_type": "stream",
     "text": [
      "/Library/Frameworks/Python.framework/Versions/3.7/lib/python3.7/site-packages/sklearn/svm/_base.py:249: ConvergenceWarning: Solver terminated early (max_iter=1000).  Consider pre-processing your data with StandardScaler or MinMaxScaler.\n",
      "  % self.max_iter, ConvergenceWarning)\n"
     ]
    },
    {
     "name": "stdout",
     "output_type": "stream",
     "text": [
      "Training Model #4/32 [ETA: 598.58s]\u001b[1K\r"
     ]
    },
    {
     "name": "stderr",
     "output_type": "stream",
     "text": [
      "/Library/Frameworks/Python.framework/Versions/3.7/lib/python3.7/site-packages/sklearn/svm/_base.py:249: ConvergenceWarning: Solver terminated early (max_iter=1000).  Consider pre-processing your data with StandardScaler or MinMaxScaler.\n",
      "  % self.max_iter, ConvergenceWarning)\n"
     ]
    },
    {
     "name": "stdout",
     "output_type": "stream",
     "text": [
      "Training Model #5/32 [ETA: 590.91s]\u001b[1K\r"
     ]
    },
    {
     "name": "stderr",
     "output_type": "stream",
     "text": [
      "/Library/Frameworks/Python.framework/Versions/3.7/lib/python3.7/site-packages/sklearn/svm/_base.py:249: ConvergenceWarning: Solver terminated early (max_iter=1000).  Consider pre-processing your data with StandardScaler or MinMaxScaler.\n",
      "  % self.max_iter, ConvergenceWarning)\n"
     ]
    },
    {
     "name": "stdout",
     "output_type": "stream",
     "text": [
      "Training Model #6/32 [ETA: 590.05s]\u001b[1K\r"
     ]
    },
    {
     "name": "stderr",
     "output_type": "stream",
     "text": [
      "/Library/Frameworks/Python.framework/Versions/3.7/lib/python3.7/site-packages/sklearn/svm/_base.py:249: ConvergenceWarning: Solver terminated early (max_iter=1000).  Consider pre-processing your data with StandardScaler or MinMaxScaler.\n",
      "  % self.max_iter, ConvergenceWarning)\n"
     ]
    },
    {
     "name": "stdout",
     "output_type": "stream",
     "text": [
      "Training Model #7/32 [ETA: 568.27s]\u001b[1K\r"
     ]
    },
    {
     "name": "stderr",
     "output_type": "stream",
     "text": [
      "/Library/Frameworks/Python.framework/Versions/3.7/lib/python3.7/site-packages/sklearn/svm/_base.py:249: ConvergenceWarning: Solver terminated early (max_iter=1000).  Consider pre-processing your data with StandardScaler or MinMaxScaler.\n",
      "  % self.max_iter, ConvergenceWarning)\n"
     ]
    },
    {
     "name": "stdout",
     "output_type": "stream",
     "text": [
      "Training Model #8/32 [ETA: 545.31s]\u001b[1K\r"
     ]
    },
    {
     "name": "stderr",
     "output_type": "stream",
     "text": [
      "/Library/Frameworks/Python.framework/Versions/3.7/lib/python3.7/site-packages/sklearn/svm/_base.py:249: ConvergenceWarning: Solver terminated early (max_iter=1000).  Consider pre-processing your data with StandardScaler or MinMaxScaler.\n",
      "  % self.max_iter, ConvergenceWarning)\n"
     ]
    },
    {
     "name": "stdout",
     "output_type": "stream",
     "text": [
      "Training Model #9/32 [ETA: 523.23s]\u001b[1K\r"
     ]
    },
    {
     "name": "stderr",
     "output_type": "stream",
     "text": [
      "/Library/Frameworks/Python.framework/Versions/3.7/lib/python3.7/site-packages/sklearn/svm/_base.py:249: ConvergenceWarning: Solver terminated early (max_iter=1000).  Consider pre-processing your data with StandardScaler or MinMaxScaler.\n",
      "  % self.max_iter, ConvergenceWarning)\n"
     ]
    },
    {
     "name": "stdout",
     "output_type": "stream",
     "text": [
      "Training Model #10/32 [ETA: 487.99s]\u001b[1K\r"
     ]
    },
    {
     "name": "stderr",
     "output_type": "stream",
     "text": [
      "/Library/Frameworks/Python.framework/Versions/3.7/lib/python3.7/site-packages/sklearn/svm/_base.py:249: ConvergenceWarning: Solver terminated early (max_iter=1000).  Consider pre-processing your data with StandardScaler or MinMaxScaler.\n",
      "  % self.max_iter, ConvergenceWarning)\n"
     ]
    },
    {
     "name": "stdout",
     "output_type": "stream",
     "text": [
      "Training Model #11/32 [ETA: 453.0s]\u001b[1K\r"
     ]
    },
    {
     "name": "stderr",
     "output_type": "stream",
     "text": [
      "/Library/Frameworks/Python.framework/Versions/3.7/lib/python3.7/site-packages/sklearn/svm/_base.py:249: ConvergenceWarning: Solver terminated early (max_iter=1000).  Consider pre-processing your data with StandardScaler or MinMaxScaler.\n",
      "  % self.max_iter, ConvergenceWarning)\n"
     ]
    },
    {
     "name": "stdout",
     "output_type": "stream",
     "text": [
      "Training Model #12/32 [ETA: 432.8s]\u001b[1K\r"
     ]
    },
    {
     "name": "stderr",
     "output_type": "stream",
     "text": [
      "/Library/Frameworks/Python.framework/Versions/3.7/lib/python3.7/site-packages/sklearn/svm/_base.py:249: ConvergenceWarning: Solver terminated early (max_iter=1000).  Consider pre-processing your data with StandardScaler or MinMaxScaler.\n",
      "  % self.max_iter, ConvergenceWarning)\n"
     ]
    },
    {
     "name": "stdout",
     "output_type": "stream",
     "text": [
      "Training Model #13/32 [ETA: 414.13s]\u001b[1K\r"
     ]
    },
    {
     "name": "stderr",
     "output_type": "stream",
     "text": [
      "/Library/Frameworks/Python.framework/Versions/3.7/lib/python3.7/site-packages/sklearn/svm/_base.py:249: ConvergenceWarning: Solver terminated early (max_iter=1000).  Consider pre-processing your data with StandardScaler or MinMaxScaler.\n",
      "  % self.max_iter, ConvergenceWarning)\n"
     ]
    },
    {
     "name": "stdout",
     "output_type": "stream",
     "text": [
      "Training Model #14/32 [ETA: 400.33s]\u001b[1K\r"
     ]
    },
    {
     "name": "stderr",
     "output_type": "stream",
     "text": [
      "/Library/Frameworks/Python.framework/Versions/3.7/lib/python3.7/site-packages/sklearn/svm/_base.py:249: ConvergenceWarning: Solver terminated early (max_iter=1000).  Consider pre-processing your data with StandardScaler or MinMaxScaler.\n",
      "  % self.max_iter, ConvergenceWarning)\n"
     ]
    },
    {
     "name": "stdout",
     "output_type": "stream",
     "text": [
      "Training Model #15/32 [ETA: 381.34s]\u001b[1K\r"
     ]
    },
    {
     "name": "stderr",
     "output_type": "stream",
     "text": [
      "/Library/Frameworks/Python.framework/Versions/3.7/lib/python3.7/site-packages/sklearn/svm/_base.py:249: ConvergenceWarning: Solver terminated early (max_iter=1000).  Consider pre-processing your data with StandardScaler or MinMaxScaler.\n",
      "  % self.max_iter, ConvergenceWarning)\n"
     ]
    },
    {
     "name": "stdout",
     "output_type": "stream",
     "text": [
      "Training Model #16/32 [ETA: 361.34s]\u001b[1K\r"
     ]
    },
    {
     "name": "stderr",
     "output_type": "stream",
     "text": [
      "/Library/Frameworks/Python.framework/Versions/3.7/lib/python3.7/site-packages/sklearn/svm/_base.py:249: ConvergenceWarning: Solver terminated early (max_iter=1000).  Consider pre-processing your data with StandardScaler or MinMaxScaler.\n",
      "  % self.max_iter, ConvergenceWarning)\n"
     ]
    },
    {
     "name": "stdout",
     "output_type": "stream",
     "text": [
      "Training Model #17/32 [ETA: 338.35s]\u001b[1K\r"
     ]
    },
    {
     "name": "stderr",
     "output_type": "stream",
     "text": [
      "/Library/Frameworks/Python.framework/Versions/3.7/lib/python3.7/site-packages/sklearn/svm/_base.py:249: ConvergenceWarning: Solver terminated early (max_iter=1000).  Consider pre-processing your data with StandardScaler or MinMaxScaler.\n",
      "  % self.max_iter, ConvergenceWarning)\n"
     ]
    },
    {
     "name": "stdout",
     "output_type": "stream",
     "text": [
      "Training Model #18/32 [ETA: 321.0s]\u001b[1K\r"
     ]
    },
    {
     "name": "stderr",
     "output_type": "stream",
     "text": [
      "/Library/Frameworks/Python.framework/Versions/3.7/lib/python3.7/site-packages/sklearn/svm/_base.py:249: ConvergenceWarning: Solver terminated early (max_iter=1000).  Consider pre-processing your data with StandardScaler or MinMaxScaler.\n",
      "  % self.max_iter, ConvergenceWarning)\n"
     ]
    },
    {
     "name": "stdout",
     "output_type": "stream",
     "text": [
      "Training Model #19/32 [ETA: 301.51s]\u001b[1K\r"
     ]
    },
    {
     "name": "stderr",
     "output_type": "stream",
     "text": [
      "/Library/Frameworks/Python.framework/Versions/3.7/lib/python3.7/site-packages/sklearn/svm/_base.py:249: ConvergenceWarning: Solver terminated early (max_iter=1000).  Consider pre-processing your data with StandardScaler or MinMaxScaler.\n",
      "  % self.max_iter, ConvergenceWarning)\n"
     ]
    },
    {
     "name": "stdout",
     "output_type": "stream",
     "text": [
      "Training Model #20/32 [ETA: 282.08s]\u001b[1K\r"
     ]
    },
    {
     "name": "stderr",
     "output_type": "stream",
     "text": [
      "/Library/Frameworks/Python.framework/Versions/3.7/lib/python3.7/site-packages/sklearn/svm/_base.py:249: ConvergenceWarning: Solver terminated early (max_iter=1000).  Consider pre-processing your data with StandardScaler or MinMaxScaler.\n",
      "  % self.max_iter, ConvergenceWarning)\n"
     ]
    },
    {
     "name": "stdout",
     "output_type": "stream",
     "text": [
      "Training Model #21/32 [ETA: 261.98s]\u001b[1K\r"
     ]
    },
    {
     "name": "stderr",
     "output_type": "stream",
     "text": [
      "/Library/Frameworks/Python.framework/Versions/3.7/lib/python3.7/site-packages/sklearn/svm/_base.py:249: ConvergenceWarning: Solver terminated early (max_iter=1000).  Consider pre-processing your data with StandardScaler or MinMaxScaler.\n",
      "  % self.max_iter, ConvergenceWarning)\n"
     ]
    },
    {
     "name": "stdout",
     "output_type": "stream",
     "text": [
      "Training Model #22/32 [ETA: 241.75s]\u001b[1K\r"
     ]
    },
    {
     "name": "stderr",
     "output_type": "stream",
     "text": [
      "/Library/Frameworks/Python.framework/Versions/3.7/lib/python3.7/site-packages/sklearn/svm/_base.py:249: ConvergenceWarning: Solver terminated early (max_iter=1000).  Consider pre-processing your data with StandardScaler or MinMaxScaler.\n",
      "  % self.max_iter, ConvergenceWarning)\n"
     ]
    },
    {
     "name": "stdout",
     "output_type": "stream",
     "text": [
      "Training Model #23/32 [ETA: 219.63s]\u001b[1K\r"
     ]
    },
    {
     "name": "stderr",
     "output_type": "stream",
     "text": [
      "/Library/Frameworks/Python.framework/Versions/3.7/lib/python3.7/site-packages/sklearn/svm/_base.py:249: ConvergenceWarning: Solver terminated early (max_iter=1000).  Consider pre-processing your data with StandardScaler or MinMaxScaler.\n",
      "  % self.max_iter, ConvergenceWarning)\n"
     ]
    },
    {
     "name": "stdout",
     "output_type": "stream",
     "text": [
      "Training Model #24/32 [ETA: 198.99s]\u001b[1K\r"
     ]
    },
    {
     "name": "stderr",
     "output_type": "stream",
     "text": [
      "/Library/Frameworks/Python.framework/Versions/3.7/lib/python3.7/site-packages/sklearn/svm/_base.py:249: ConvergenceWarning: Solver terminated early (max_iter=1000).  Consider pre-processing your data with StandardScaler or MinMaxScaler.\n",
      "  % self.max_iter, ConvergenceWarning)\n"
     ]
    },
    {
     "name": "stdout",
     "output_type": "stream",
     "text": [
      "Training Model #25/32 [ETA: 177.66s]\u001b[1K\r"
     ]
    },
    {
     "name": "stderr",
     "output_type": "stream",
     "text": [
      "/Library/Frameworks/Python.framework/Versions/3.7/lib/python3.7/site-packages/sklearn/svm/_base.py:249: ConvergenceWarning: Solver terminated early (max_iter=1000).  Consider pre-processing your data with StandardScaler or MinMaxScaler.\n",
      "  % self.max_iter, ConvergenceWarning)\n"
     ]
    },
    {
     "name": "stdout",
     "output_type": "stream",
     "text": [
      "Training Model #26/32 [ETA: 155.3s]\u001b[1K\r"
     ]
    },
    {
     "name": "stderr",
     "output_type": "stream",
     "text": [
      "/Library/Frameworks/Python.framework/Versions/3.7/lib/python3.7/site-packages/sklearn/svm/_base.py:249: ConvergenceWarning: Solver terminated early (max_iter=1000).  Consider pre-processing your data with StandardScaler or MinMaxScaler.\n",
      "  % self.max_iter, ConvergenceWarning)\n"
     ]
    },
    {
     "name": "stdout",
     "output_type": "stream",
     "text": [
      "Training Model #27/32 [ETA: 133.19s]\u001b[1K\r"
     ]
    },
    {
     "name": "stderr",
     "output_type": "stream",
     "text": [
      "/Library/Frameworks/Python.framework/Versions/3.7/lib/python3.7/site-packages/sklearn/svm/_base.py:249: ConvergenceWarning: Solver terminated early (max_iter=1000).  Consider pre-processing your data with StandardScaler or MinMaxScaler.\n",
      "  % self.max_iter, ConvergenceWarning)\n"
     ]
    },
    {
     "name": "stdout",
     "output_type": "stream",
     "text": [
      "Training Model #28/32 [ETA: 110.55s]\u001b[1K\r"
     ]
    },
    {
     "name": "stderr",
     "output_type": "stream",
     "text": [
      "/Library/Frameworks/Python.framework/Versions/3.7/lib/python3.7/site-packages/sklearn/svm/_base.py:249: ConvergenceWarning: Solver terminated early (max_iter=1000).  Consider pre-processing your data with StandardScaler or MinMaxScaler.\n",
      "  % self.max_iter, ConvergenceWarning)\n"
     ]
    },
    {
     "name": "stdout",
     "output_type": "stream",
     "text": [
      "Training Model #29/32 [ETA: 88.53s]\u001b[1K\r"
     ]
    },
    {
     "name": "stderr",
     "output_type": "stream",
     "text": [
      "/Library/Frameworks/Python.framework/Versions/3.7/lib/python3.7/site-packages/sklearn/svm/_base.py:249: ConvergenceWarning: Solver terminated early (max_iter=1000).  Consider pre-processing your data with StandardScaler or MinMaxScaler.\n",
      "  % self.max_iter, ConvergenceWarning)\n"
     ]
    },
    {
     "name": "stdout",
     "output_type": "stream",
     "text": [
      "Training Model #30/32 [ETA: 66.73s]\u001b[1K\r"
     ]
    },
    {
     "name": "stderr",
     "output_type": "stream",
     "text": [
      "/Library/Frameworks/Python.framework/Versions/3.7/lib/python3.7/site-packages/sklearn/svm/_base.py:249: ConvergenceWarning: Solver terminated early (max_iter=1000).  Consider pre-processing your data with StandardScaler or MinMaxScaler.\n",
      "  % self.max_iter, ConvergenceWarning)\n"
     ]
    },
    {
     "name": "stdout",
     "output_type": "stream",
     "text": [
      "Training Model #31/32 [ETA: 44.52s]\u001b[1K\r"
     ]
    },
    {
     "name": "stderr",
     "output_type": "stream",
     "text": [
      "/Library/Frameworks/Python.framework/Versions/3.7/lib/python3.7/site-packages/sklearn/svm/_base.py:249: ConvergenceWarning: Solver terminated early (max_iter=1000).  Consider pre-processing your data with StandardScaler or MinMaxScaler.\n",
      "  % self.max_iter, ConvergenceWarning)\n"
     ]
    },
    {
     "name": "stdout",
     "output_type": "stream",
     "text": [
      "Training Model #32/32 [ETA: 22.28s]\u001b[1K\r"
     ]
    },
    {
     "name": "stderr",
     "output_type": "stream",
     "text": [
      "/Library/Frameworks/Python.framework/Versions/3.7/lib/python3.7/site-packages/sklearn/svm/_base.py:249: ConvergenceWarning: Solver terminated early (max_iter=1000).  Consider pre-processing your data with StandardScaler or MinMaxScaler.\n",
      "  % self.max_iter, ConvergenceWarning)\n"
     ]
    },
    {
     "name": "stdout",
     "output_type": "stream",
     "text": [
      "\n",
      "-------- CROSS-VALIDATION --------\n",
      "Scoring Model #32/32 [ETA: 37.54s]\u001b[1KK\n",
      "-------- SELECTION --------\n",
      "\n",
      "-------- TRAINING CANDIDATES UNTIL CONVERGENCE --------\n",
      "TRAINING UNTIL CONVERGENCE : MODEL #5/5 [ETA: 45.98s\u001b[1KK\n",
      "-------- FINDING THE BEST MODEL --------\n",
      "New model saved at models_archives/svm_glouton_selected_1000.joblib\n"
     ]
    }
   ],
   "source": [
    "### SVM with only extreme values without PCA\n",
    "CREATE_SVM_GLOUTON = False\n",
    "\n",
    "# Create input arrays\n",
    "def make_input_svm_glouton(h5_file):\n",
    "    return make_input(h5_file, features=FEATURES, quantiles=TAIL_QUANTILES, dist_char=True, truncate_dist=True)\n",
    "\n",
    "svm_glouton_grid_1 = ParameterGrid(\n",
    "    {\"kernel\": [\"rbf\", \"sigmoid\"],\n",
    "     \"C\": [0.01, 0.1, 1, 10, 100],\n",
    "     \"gamma\": [\"auto\", \"scale\"],\n",
    "    }\n",
    ")\n",
    "\n",
    "\n",
    "svm_glouton_grid_2 = ParameterGrid(\n",
    "    {\"kernel\": [\"poly\"],\n",
    "     \"C\": [0.01, 0.1, 1, 10, 100],\n",
    "     \"degree\": [1, 2, 3, 4] #if max_iter != -1\n",
    "    })\n",
    "\n",
    "svm_glouton_grid = list(svm_glouton_grid_1) + list(svm_glouton_grid_2)\n",
    "\n",
    "if CREATE_SVM_GLOUTON:\n",
    "    best_svm_glouton = \\\n",
    "        svm_no_PCA_selector(\n",
    "            make_input_func=make_input_svm_glouton,\n",
    "            params_grid=svm_glouton_grid,\n",
    "            scaler=StandardScaler(),\n",
    "            name='svm_glouton_selected_1000',\n",
    "            comments=\"tail quantiles; dist chars with truncation; all features; no PCA; seed=101\",\n",
    "            select=5, \n",
    "            max_iter=1000,\n",
    "            seed=101\n",
    "        )\n",
    "    \n",
    "# best_svm_glouton = load_model('svm_glouton_selected_100')\n",
    "    \n",
    "\n"
   ]
  },
  {
   "cell_type": "code",
   "execution_count": 119,
   "metadata": {},
   "outputs": [
    {
     "ename": "NameError",
     "evalue": "name 'get_inputs_svm' is not defined",
     "output_type": "error",
     "traceback": [
      "\u001b[0;31m---------------------------------------------------------------------------\u001b[0m",
      "\u001b[0;31mNameError\u001b[0m                                 Traceback (most recent call last)",
      "\u001b[0;32m<ipython-input-119-d0d8284c6380>\u001b[0m in \u001b[0;36m<module>\u001b[0;34m\u001b[0m\n\u001b[1;32m      9\u001b[0m \u001b[0;34m\u001b[0m\u001b[0m\n\u001b[1;32m     10\u001b[0m \u001b[0mX_train_train\u001b[0m\u001b[0;34m,\u001b[0m \u001b[0my_train_train\u001b[0m\u001b[0;34m,\u001b[0m \u001b[0mX_train_val\u001b[0m\u001b[0;34m,\u001b[0m \u001b[0my_train_val\u001b[0m\u001b[0;34m,\u001b[0m \u001b[0mX_test\u001b[0m \u001b[0;34m=\u001b[0m\u001b[0;31m \u001b[0m\u001b[0;31m\\\u001b[0m\u001b[0;34m\u001b[0m\u001b[0;34m\u001b[0m\u001b[0m\n\u001b[0;32m---> 11\u001b[0;31m     \u001b[0mget_inputs_svm\u001b[0m\u001b[0;34m(\u001b[0m\u001b[0mmake_input_rf\u001b[0m\u001b[0;34m,\u001b[0m \u001b[0mStandardScaler\u001b[0m\u001b[0;34m(\u001b[0m\u001b[0;34m)\u001b[0m\u001b[0;34m,\u001b[0m \u001b[0mseed\u001b[0m\u001b[0;34m=\u001b[0m\u001b[0;36m101\u001b[0m\u001b[0;34m)\u001b[0m\u001b[0;34m\u001b[0m\u001b[0;34m\u001b[0m\u001b[0m\n\u001b[0m\u001b[1;32m     12\u001b[0m \u001b[0;34m\u001b[0m\u001b[0m\n\u001b[1;32m     13\u001b[0m \u001b[0mrf\u001b[0m\u001b[0;34m.\u001b[0m\u001b[0mfit\u001b[0m\u001b[0;34m(\u001b[0m\u001b[0mX_train_train\u001b[0m\u001b[0;34m,\u001b[0m \u001b[0my_train_train\u001b[0m\u001b[0;34m)\u001b[0m\u001b[0;34m\u001b[0m\u001b[0;34m\u001b[0m\u001b[0m\n",
      "\u001b[0;31mNameError\u001b[0m: name 'get_inputs_svm' is not defined"
     ]
    }
   ],
   "source": [
    "# svm_central = load_model(\"svm_central_selected_100.joblib\")\n",
    "from sklearn.ensemble import RandomForestClassifier\n",
    "\n",
    "def make_input_rf(h5_file):\n",
    "    return make_input(h5_file, features=FEATURES, quantiles=QUANTILES, dist_char=True, truncate_dist=True)\n",
    "\n",
    "\n",
    "rf = RandomForestClassifier()\n",
    "\n",
    "X_train_train, y_train_train, X_train_val, y_train_val, X_test = \\\n",
    "    get_inputs_svm(make_input_rf, StandardScaler(), seed=101)\n",
    "\n",
    "rf.fit(X_train_train, y_train_train)\n",
    "y_rf = rf.predict(X_test)\n",
    "\n",
    "\n",
    "# y_pred = svm_central.predict(X_test)\n",
    "# submit_to_kaggle(y_rf, h5_test, fname=\"soumission_rf_noob.csv\", msg=\"\")"
   ]
  },
  {
   "cell_type": "code",
   "execution_count": 40,
   "metadata": {},
   "outputs": [
    {
     "data": {
      "text/plain": [
       "tuple"
      ]
     },
     "execution_count": 40,
     "metadata": {},
     "output_type": "execute_result"
    }
   ],
   "source": []
  },
  {
   "cell_type": "code",
   "execution_count": 30,
   "metadata": {},
   "outputs": [
    {
     "name": "stdout",
     "output_type": "stream",
     "text": [
      "New submission file at submissions/soumission_rf_noob.csv\n"
     ]
    }
   ],
   "source": [
    "# submit_to_kaggle(y_rf, h5_test, fname=\"soumission_rf_noob.csv\", msg=\"\")"
   ]
  },
  {
   "cell_type": "code",
   "execution_count": 120,
   "metadata": {},
   "outputs": [
    {
     "name": "stdout",
     "output_type": "stream",
     "text": [
      "Feature #31/32\u001b[1K\r"
     ]
    },
    {
     "ename": "TypeError",
     "evalue": "'numpy.int64' object is not iterable",
     "output_type": "error",
     "traceback": [
      "\u001b[0;31m---------------------------------------------------------------------------\u001b[0m",
      "\u001b[0;31mTypeError\u001b[0m                                 Traceback (most recent call last)",
      "\u001b[0;32m<ipython-input-120-eec622ce8fba>\u001b[0m in \u001b[0;36m<module>\u001b[0;34m\u001b[0m\n\u001b[1;32m      4\u001b[0m \u001b[0mMODEL_FEATURES\u001b[0m \u001b[0;34m=\u001b[0m \u001b[0;34m[\u001b[0m\u001b[0;34m*\u001b[0m\u001b[0mLOG_ENERGY_FEATURES\u001b[0m\u001b[0;34m,\u001b[0m \u001b[0;34m\"pulse_max_freq\"\u001b[0m\u001b[0;34m,\u001b[0m \u001b[0;34m\"pulse_max_logE\"\u001b[0m\u001b[0;34m,\u001b[0m \u001b[0;34m\"speed_norm\"\u001b[0m\u001b[0;34m,\u001b[0m \u001b[0;34m\"accel_norm\"\u001b[0m\u001b[0;34m]\u001b[0m\u001b[0;34m\u001b[0m\u001b[0;34m\u001b[0m\u001b[0m\n\u001b[1;32m      5\u001b[0m \u001b[0;34m\u001b[0m\u001b[0m\n\u001b[0;32m----> 6\u001b[0;31m \u001b[0mX_train\u001b[0m \u001b[0;34m=\u001b[0m \u001b[0mmake_input\u001b[0m\u001b[0;34m(\u001b[0m\u001b[0mh5_train\u001b[0m\u001b[0;34m,\u001b[0m \u001b[0mfeatures\u001b[0m\u001b[0;34m=\u001b[0m\u001b[0mSVM_FEATURES\u001b[0m\u001b[0;34m,\u001b[0m \u001b[0mquantiles\u001b[0m\u001b[0;34m=\u001b[0m\u001b[0mQUANTILES_TAIL_CAPTURE\u001b[0m\u001b[0;34m)\u001b[0m\u001b[0;34m\u001b[0m\u001b[0;34m\u001b[0m\u001b[0m\n\u001b[0m\u001b[1;32m      7\u001b[0m \u001b[0mX_test\u001b[0m \u001b[0;34m=\u001b[0m \u001b[0mmake_input\u001b[0m\u001b[0;34m(\u001b[0m\u001b[0mh5_test\u001b[0m\u001b[0;34m,\u001b[0m \u001b[0mfeatures\u001b[0m\u001b[0;34m=\u001b[0m\u001b[0mSVM_FEATURES\u001b[0m\u001b[0;34m,\u001b[0m \u001b[0mquantiles\u001b[0m\u001b[0;34m=\u001b[0m\u001b[0mQUANTILES_TAIL_CAPTURE\u001b[0m\u001b[0;34m)\u001b[0m\u001b[0;34m\u001b[0m\u001b[0;34m\u001b[0m\u001b[0m\n\u001b[1;32m      8\u001b[0m \u001b[0;34m\u001b[0m\u001b[0m\n",
      "\u001b[0;32m<ipython-input-110-2a8f315e7c88>\u001b[0m in \u001b[0;36mmake_input\u001b[0;34m(h5_file, features, quantiles, dist_char, truncate_dist, rescale)\u001b[0m\n\u001b[1;32m     84\u001b[0m         \u001b[0mids\u001b[0m \u001b[0;34m=\u001b[0m \u001b[0mget_subject_ids\u001b[0m\u001b[0;34m(\u001b[0m\u001b[0mh5_file\u001b[0m\u001b[0;34m)\u001b[0m\u001b[0;34m\u001b[0m\u001b[0;34m\u001b[0m\u001b[0m\n\u001b[1;32m     85\u001b[0m         \u001b[0;32mfor\u001b[0m \u001b[0mid\u001b[0m \u001b[0;32min\u001b[0m \u001b[0mids\u001b[0m\u001b[0;34m:\u001b[0m\u001b[0;34m\u001b[0m\u001b[0;34m\u001b[0m\u001b[0m\n\u001b[0;32m---> 86\u001b[0;31m             \u001b[0mindices\u001b[0m \u001b[0;34m=\u001b[0m \u001b[0msubjects_ids_to_indexers\u001b[0m\u001b[0;34m(\u001b[0m\u001b[0mh5_file\u001b[0m\u001b[0;34m,\u001b[0m \u001b[0mid\u001b[0m\u001b[0;34m,\u001b[0m \u001b[0mas_indices\u001b[0m\u001b[0;34m=\u001b[0m\u001b[0;32mTrue\u001b[0m\u001b[0;34m,\u001b[0m \u001b[0mas_boolean_array\u001b[0m\u001b[0;34m=\u001b[0m\u001b[0;32mFalse\u001b[0m\u001b[0;34m)\u001b[0m\u001b[0;34m\u001b[0m\u001b[0;34m\u001b[0m\u001b[0m\n\u001b[0m\u001b[1;32m     87\u001b[0m             \u001b[0mz_scaler\u001b[0m \u001b[0;34m=\u001b[0m \u001b[0mStandardScaler\u001b[0m\u001b[0;34m(\u001b[0m\u001b[0;34m)\u001b[0m\u001b[0;34m\u001b[0m\u001b[0;34m\u001b[0m\u001b[0m\n\u001b[1;32m     88\u001b[0m             \u001b[0minput_arr\u001b[0m\u001b[0;34m[\u001b[0m\u001b[0mindices\u001b[0m\u001b[0;34m,\u001b[0m\u001b[0;34m:\u001b[0m\u001b[0;34m]\u001b[0m \u001b[0;34m=\u001b[0m \u001b[0mz_scaler\u001b[0m\u001b[0;34m.\u001b[0m\u001b[0mfit_transform\u001b[0m\u001b[0;34m(\u001b[0m\u001b[0minput_arr\u001b[0m\u001b[0;34m[\u001b[0m\u001b[0mindices\u001b[0m\u001b[0;34m,\u001b[0m\u001b[0;34m:\u001b[0m\u001b[0;34m]\u001b[0m\u001b[0;34m)\u001b[0m\u001b[0;34m\u001b[0m\u001b[0;34m\u001b[0m\u001b[0m\n",
      "\u001b[0;32m<ipython-input-111-0eccaa70d706>\u001b[0m in \u001b[0;36msubjects_ids_to_indexers\u001b[0;34m(h5_file, subjects_ids, as_indices, as_boolean_array)\u001b[0m\n\u001b[1;32m     13\u001b[0m         \u001b[0;32mraise\u001b[0m \u001b[0mNameError\u001b[0m\u001b[0;34m(\u001b[0m\u001b[0;34m'Choose between `indices` and `boolean array` representations'\u001b[0m\u001b[0;34m)\u001b[0m\u001b[0;34m\u001b[0m\u001b[0;34m\u001b[0m\u001b[0m\n\u001b[1;32m     14\u001b[0m     \u001b[0;32mif\u001b[0m \u001b[0mas_indices\u001b[0m\u001b[0;34m:\u001b[0m\u001b[0;34m\u001b[0m\u001b[0;34m\u001b[0m\u001b[0m\n\u001b[0;32m---> 15\u001b[0;31m         \u001b[0mboundaries\u001b[0m \u001b[0;34m=\u001b[0m \u001b[0;34m[\u001b[0m\u001b[0mget_subject_boundaries\u001b[0m\u001b[0;34m(\u001b[0m\u001b[0mh5_file\u001b[0m\u001b[0;34m,\u001b[0m \u001b[0msid\u001b[0m\u001b[0;34m,\u001b[0m \u001b[0mready_to_use\u001b[0m\u001b[0;34m=\u001b[0m\u001b[0;32mFalse\u001b[0m\u001b[0;34m)\u001b[0m \u001b[0;32mfor\u001b[0m \u001b[0msid\u001b[0m \u001b[0;32min\u001b[0m \u001b[0msubjects_ids\u001b[0m\u001b[0;34m]\u001b[0m\u001b[0;34m\u001b[0m\u001b[0;34m\u001b[0m\u001b[0m\n\u001b[0m\u001b[1;32m     16\u001b[0m         \u001b[0;32mreturn\u001b[0m \u001b[0msum\u001b[0m\u001b[0;34m(\u001b[0m\u001b[0mmap\u001b[0m\u001b[0;34m(\u001b[0m\u001b[0;32mlambda\u001b[0m \u001b[0mbounds\u001b[0m\u001b[0;34m:\u001b[0m \u001b[0mlist\u001b[0m\u001b[0;34m(\u001b[0m\u001b[0mrange\u001b[0m\u001b[0;34m(\u001b[0m\u001b[0mbounds\u001b[0m\u001b[0;34m[\u001b[0m\u001b[0;36m0\u001b[0m\u001b[0;34m]\u001b[0m\u001b[0;34m,\u001b[0m \u001b[0mbounds\u001b[0m\u001b[0;34m[\u001b[0m\u001b[0;36m1\u001b[0m\u001b[0;34m]\u001b[0m\u001b[0;34m+\u001b[0m\u001b[0;36m1\u001b[0m\u001b[0;34m)\u001b[0m\u001b[0;34m)\u001b[0m\u001b[0;34m,\u001b[0m \u001b[0mboundaries\u001b[0m\u001b[0;34m)\u001b[0m\u001b[0;34m,\u001b[0m \u001b[0mlist\u001b[0m\u001b[0;34m(\u001b[0m\u001b[0;34m)\u001b[0m\u001b[0;34m)\u001b[0m\u001b[0;34m\u001b[0m\u001b[0;34m\u001b[0m\u001b[0m\n\u001b[1;32m     17\u001b[0m     \u001b[0;32mif\u001b[0m \u001b[0mas_boolean_array\u001b[0m\u001b[0;34m:\u001b[0m\u001b[0;34m\u001b[0m\u001b[0;34m\u001b[0m\u001b[0m\n",
      "\u001b[0;31mTypeError\u001b[0m: 'numpy.int64' object is not iterable"
     ]
    }
   ],
   "source": [
    "# make input for SVM\n",
    "LOG_ENERGY_FEATURES = [feature for feature in FEATURES if feature.endswith(\"logE\") and \"eeg\" in feature]\n",
    "\n",
    "MODEL_FEATURES = [*LOG_ENERGY_FEATURES, \"pulse_max_freq\", \"pulse_max_logE\", \"speed_norm\", \"accel_norm\"]\n",
    "\n",
    "X_train = make_input(h5_train, features=SVM_FEATURES, quantiles=QUANTILES_TAIL_CAPTURE)\n",
    "X_test = make_input(h5_test, features=SVM_FEATURES, quantiles=QUANTILES_TAIL_CAPTURE)\n",
    "\n",
    "train_ids, validation_ids = split_train_validation_subject_ids(0.7, seed=101)\n",
    "X_train_train, y_train_train, X_train_val, y_train_val = split_train_validation(X_train, train_subjects_ids=train_ids)\n",
    "\n",
    "### PCA on log_energy features\n",
    "from sklearn.decomposition import PCA\n",
    "\n",
    "pca_logE = PCA(0.9)\n",
    "pca_logE.fit(X_train_train[:, :len(LOG_ENERGY_FEATURES)])\n",
    "\n",
    "def apply_pca(X, pca, copy=True):\n",
    "    if copy:\n",
    "        return apply_pca(X[:, :], pca, copy=False)\n",
    "    X_transformed = pca.transform(X[:, :len(LOG_ENERGY_FEATURES)])\n",
    "    X[:, len(LOG_ENERGY_FEATURES) - pca.n_components_ : len(LOG_ENERGY_FEATURES)] = X_transformed\n",
    "    X = X[:, len(LOG_ENERGY_FEATURES) - pca.n_components_ :]\n",
    "    return X\n",
    "\n",
    "X_train_train = apply_pca(X_train_train, pca_logE)\n",
    "X_train_val = apply_pca(X_train_val, pca_logE)\n",
    "X_test = apply_pca(X_test, pca_logE)\n",
    "\n",
    "### Rescaling\n",
    "#from sklearn.preprocessing import StandardScaler \n",
    "# already robust on not logE features because we take quantiles\n",
    "# --> StandardScaler \n",
    "\n",
    "#z_scaler = StandardScaler()\n",
    "\n",
    "#X_train_train = z_scaler.fit_transform(X_train_train)\n",
    "#X_train_val = z_scaler.transform(X_train_val)\n",
    "#X_test = z_scaler.transform(X_test)\n",
    "\n"
   ]
  },
  {
   "cell_type": "code",
   "execution_count": null,
   "metadata": {},
   "outputs": [],
   "source": [
    "### SVC Models\n",
    "from sklearn.svm import SVC\n",
    "\n",
    "svm_params_grid_rbf_and_sigmoid = ParameterGrid(\n",
    "    {\"kernel\": [\"rbf\", \"sigmoid\"],\n",
    "     \"C\": [0.1, 1, 10],\n",
    "     \"gamma\": [\"scale\", \"auto\"]\n",
    "    })\n",
    "\n",
    "svm_params_grid_poly = ParameterGrid(\n",
    "    {\"kernel\": [\"poly\"],\n",
    "     \"C\": [0.1, 1, 10],\n",
    "     \"degree\": [3, 10] #if max_iter != -1\n",
    "    })\n",
    " \n",
    "svm_params_grid = list(svm_params_grid_rbf_and_sigmoid) + list(svm_params_grid_poly)\n",
    "\n",
    "svm_models = train_on_grid(SVC, svm_params_grid, X_train_train, y_train_train)"
   ]
  },
  {
   "cell_type": "code",
   "execution_count": 86,
   "metadata": {
    "scrolled": true
   },
   "outputs": [
    {
     "name": "stdout",
     "output_type": "stream",
     "text": [
      "Scoring Model #17/18 [ETA: 16.0s]\u001b[1KKK\r"
     ]
    },
    {
     "data": {
      "text/plain": [
       "[{'train_macro': 0.34906001481735155,\n",
       "  'train_micro': 0.5051310682192801,\n",
       "  'validation_macro': 0.2763904479917661,\n",
       "  'validation_micro': 0.4335997279374256},\n",
       " {'train_macro': 0.2614320675993827,\n",
       "  'train_micro': 0.369011538257032,\n",
       "  'validation_macro': 0.25364166732316773,\n",
       "  'validation_micro': 0.3479000170039109},\n",
       " {'train_macro': 0.34906001481735155,\n",
       "  'train_micro': 0.5051310682192801,\n",
       "  'validation_macro': 0.2763904479917661,\n",
       "  'validation_micro': 0.4335997279374256},\n",
       " {'train_macro': 0.2614320675993827,\n",
       "  'train_micro': 0.369011538257032,\n",
       "  'validation_macro': 0.25364166732316773,\n",
       "  'validation_micro': 0.3479000170039109},\n",
       " {'train_macro': 0.4425298480449335,\n",
       "  'train_micro': 0.5605891423406179,\n",
       "  'validation_macro': 0.3625099634566772,\n",
       "  'validation_micro': 0.4762795442951879},\n",
       " {'train_macro': 0.2701379314099138,\n",
       "  'train_micro': 0.352634657308449,\n",
       "  'validation_macro': 0.2471371194507579,\n",
       "  'validation_micro': 0.3239245026356062},\n",
       " {'train_macro': 0.4425298480449335,\n",
       "  'train_micro': 0.5605891423406179,\n",
       "  'validation_macro': 0.3625099634566772,\n",
       "  'validation_micro': 0.4762795442951879},\n",
       " {'train_macro': 0.2701379314099138,\n",
       "  'train_micro': 0.352634657308449,\n",
       "  'validation_macro': 0.2471371194507579,\n",
       "  'validation_micro': 0.3239245026356062},\n",
       " {'train_macro': 0.5804677025683329,\n",
       "  'train_micro': 0.6554474397830595,\n",
       "  'validation_macro': 0.43988329111958446,\n",
       "  'validation_micro': 0.5169188913450093},\n",
       " {'train_macro': 0.26610912090439426,\n",
       "  'train_micro': 0.32881373956505555,\n",
       "  'validation_macro': 0.2544309155178751,\n",
       "  'validation_micro': 0.31389219520489714},\n",
       " {'train_macro': 0.5804677025683329,\n",
       "  'train_micro': 0.6554474397830595,\n",
       "  'validation_macro': 0.43988329111958446,\n",
       "  'validation_micro': 0.5169188913450093},\n",
       " {'train_macro': 0.26610912090439426,\n",
       "  'train_micro': 0.32881373956505555,\n",
       "  'validation_macro': 0.2544309155178751,\n",
       "  'validation_micro': 0.31389219520489714},\n",
       " {'train_macro': 0.3102744686201169,\n",
       "  'train_micro': 0.47982134311692454,\n",
       "  'validation_macro': 0.2327523496164874,\n",
       "  'validation_micro': 0.42373745961571163},\n",
       " {'train_macro': 0.41343745072922006,\n",
       "  'train_micro': 0.5233689583665656,\n",
       "  'validation_macro': 0.2101554504624652,\n",
       "  'validation_micro': 0.4091140962421357},\n",
       " {'train_macro': 0.363033653057082,\n",
       "  'train_micro': 0.505237411602063,\n",
       "  'validation_macro': 0.2592401077761147,\n",
       "  'validation_micro': 0.4301989457575242},\n",
       " {'train_macro': 0.4743140832015283,\n",
       "  'train_micro': 0.5573988408571277,\n",
       "  'validation_macro': 0.22802604748807948,\n",
       "  'validation_micro': 0.4111545655500765},\n",
       " {'train_macro': 0.434813429878487,\n",
       "  'train_micro': 0.5451161801456904,\n",
       "  'validation_macro': 0.29331375382746516,\n",
       "  'validation_micro': 0.42373745961571163},\n",
       " {'train_macro': 0.5377520855415243,\n",
       "  'train_micro': 0.5945126814483969,\n",
       "  'validation_macro': 0.25912130946572165,\n",
       "  'validation_micro': 0.4191464036728448}]"
      ]
     },
     "execution_count": 86,
     "metadata": {},
     "output_type": "execute_result"
    }
   ],
   "source": [
    "svm_scores = get_models_custom_scoring(svm_models, X_train_train, y_train_train, X_train_val, y_train_val)\n",
    "svm_scores"
   ]
  },
  {
   "cell_type": "code",
   "execution_count": 87,
   "metadata": {},
   "outputs": [
    {
     "ename": "NameError",
     "evalue": "name 'scores' is not defined",
     "output_type": "error",
     "traceback": [
      "\u001b[0;31m---------------------------------------------------------------------------\u001b[0m",
      "\u001b[0;31mNameError\u001b[0m                                 Traceback (most recent call last)",
      "\u001b[0;32m<ipython-input-87-c626ed281ed3>\u001b[0m in \u001b[0;36m<module>\u001b[0;34m\u001b[0m\n\u001b[0;32m----> 1\u001b[0;31m \u001b[0msvm_scores\u001b[0m \u001b[0;34m=\u001b[0m \u001b[0mscores\u001b[0m\u001b[0;34m\u001b[0m\u001b[0;34m\u001b[0m\u001b[0m\n\u001b[0m\u001b[1;32m      2\u001b[0m \u001b[0mbest_svm_model\u001b[0m\u001b[0;34m,\u001b[0m \u001b[0mbest_svm_params\u001b[0m\u001b[0;34m,\u001b[0m \u001b[0mbest_svm_scores\u001b[0m \u001b[0;34m=\u001b[0m\u001b[0;31m \u001b[0m\u001b[0;31m\\\u001b[0m\u001b[0;34m\u001b[0m\u001b[0;34m\u001b[0m\u001b[0m\n\u001b[1;32m      3\u001b[0m     \u001b[0mget_best_model\u001b[0m\u001b[0;34m(\u001b[0m\u001b[0msvm_models\u001b[0m\u001b[0;34m,\u001b[0m \u001b[0msvm_params_grid\u001b[0m\u001b[0;34m,\u001b[0m \u001b[0msvm_scores\u001b[0m\u001b[0;34m,\u001b[0m \u001b[0mcriterion\u001b[0m\u001b[0;34m=\u001b[0m\u001b[0;34m\"validation_macro\"\u001b[0m\u001b[0;34m)\u001b[0m\u001b[0;34m\u001b[0m\u001b[0;34m\u001b[0m\u001b[0m\n\u001b[1;32m      4\u001b[0m \u001b[0mbest_svm_scores\u001b[0m\u001b[0;34m\u001b[0m\u001b[0;34m\u001b[0m\u001b[0m\n",
      "\u001b[0;31mNameError\u001b[0m: name 'scores' is not defined"
     ]
    }
   ],
   "source": [
    "best_svm_model, best_svm_params, best_svm_scores = \\\n",
    "    get_best_model(svm_models, svm_params_grid, svm_scores, criterion=\"validation_weighted\")\n",
    "best_svm_scores"
   ]
  },
  {
   "cell_type": "code",
   "execution_count": 26,
   "metadata": {},
   "outputs": [
    {
     "name": "stdout",
     "output_type": "stream",
     "text": [
      "Training Model #48/48 [ETA: 4.11s]\u001b[1KK\r"
     ]
    }
   ],
   "source": [
    "from sklearn.ensemble import RandomForestClassifier\n",
    "\n",
    "\n",
    "random_forest_params = {\n",
    "    \"n_estimators\": [10, 30, 100, 150],\n",
    "    \"max_depth\": [3, 10, 30, 100],\n",
    "    \"min_samples_leaf\": [1, 10, 100]}\n",
    "\n",
    "random_forest_params_grid = list(ParameterGrid(random_forest_params))\n",
    "\n",
    "random_forest_models = train_on_grid(\n",
    "    RandomForestClassifier, \n",
    "    random_forest_params_grid,\n",
    "    X_train_train,\n",
    "    y_train_train\n",
    ")"
   ]
  },
  {
   "cell_type": "code",
   "execution_count": 27,
   "metadata": {
    "scrolled": true
   },
   "outputs": [
    {
     "name": "stdout",
     "output_type": "stream",
     "text": [
      "Scoring Model #47/48 [ETA: 0.15s]\u001b[1K\r"
     ]
    },
    {
     "data": {
      "text/html": [
       "<div>\n",
       "<style scoped>\n",
       "    .dataframe tbody tr th:only-of-type {\n",
       "        vertical-align: middle;\n",
       "    }\n",
       "\n",
       "    .dataframe tbody tr th {\n",
       "        vertical-align: top;\n",
       "    }\n",
       "\n",
       "    .dataframe thead tr th {\n",
       "        text-align: left;\n",
       "    }\n",
       "</style>\n",
       "<table border=\"1\" class=\"dataframe\">\n",
       "  <thead>\n",
       "    <tr>\n",
       "      <th></th>\n",
       "      <th colspan=\"3\" halign=\"left\">params</th>\n",
       "      <th colspan=\"2\" halign=\"left\">scores</th>\n",
       "    </tr>\n",
       "    <tr>\n",
       "      <th></th>\n",
       "      <th>max_depth</th>\n",
       "      <th>min_samples_leaf</th>\n",
       "      <th>n_estimators</th>\n",
       "      <th>train_weighted</th>\n",
       "      <th>validation_weighted</th>\n",
       "    </tr>\n",
       "  </thead>\n",
       "  <tbody>\n",
       "    <tr>\n",
       "      <th>33</th>\n",
       "      <td>30</td>\n",
       "      <td>100</td>\n",
       "      <td>30</td>\n",
       "      <td>0.643324</td>\n",
       "      <td>0.463518</td>\n",
       "    </tr>\n",
       "    <tr>\n",
       "      <th>44</th>\n",
       "      <td>100</td>\n",
       "      <td>100</td>\n",
       "      <td>10</td>\n",
       "      <td>0.632910</td>\n",
       "      <td>0.463180</td>\n",
       "    </tr>\n",
       "    <tr>\n",
       "      <th>47</th>\n",
       "      <td>100</td>\n",
       "      <td>100</td>\n",
       "      <td>150</td>\n",
       "      <td>0.645184</td>\n",
       "      <td>0.459087</td>\n",
       "    </tr>\n",
       "    <tr>\n",
       "      <th>32</th>\n",
       "      <td>30</td>\n",
       "      <td>100</td>\n",
       "      <td>10</td>\n",
       "      <td>0.636848</td>\n",
       "      <td>0.458153</td>\n",
       "    </tr>\n",
       "    <tr>\n",
       "      <th>35</th>\n",
       "      <td>30</td>\n",
       "      <td>100</td>\n",
       "      <td>150</td>\n",
       "      <td>0.642077</td>\n",
       "      <td>0.458108</td>\n",
       "    </tr>\n",
       "    <tr>\n",
       "      <th>46</th>\n",
       "      <td>100</td>\n",
       "      <td>100</td>\n",
       "      <td>100</td>\n",
       "      <td>0.650043</td>\n",
       "      <td>0.455831</td>\n",
       "    </tr>\n",
       "    <tr>\n",
       "      <th>45</th>\n",
       "      <td>100</td>\n",
       "      <td>100</td>\n",
       "      <td>30</td>\n",
       "      <td>0.644333</td>\n",
       "      <td>0.452113</td>\n",
       "    </tr>\n",
       "    <tr>\n",
       "      <th>13</th>\n",
       "      <td>10</td>\n",
       "      <td>1</td>\n",
       "      <td>30</td>\n",
       "      <td>0.776089</td>\n",
       "      <td>0.451573</td>\n",
       "    </tr>\n",
       "    <tr>\n",
       "      <th>22</th>\n",
       "      <td>10</td>\n",
       "      <td>100</td>\n",
       "      <td>100</td>\n",
       "      <td>0.625828</td>\n",
       "      <td>0.448405</td>\n",
       "    </tr>\n",
       "    <tr>\n",
       "      <th>18</th>\n",
       "      <td>10</td>\n",
       "      <td>10</td>\n",
       "      <td>100</td>\n",
       "      <td>0.730110</td>\n",
       "      <td>0.448180</td>\n",
       "    </tr>\n",
       "    <tr>\n",
       "      <th>20</th>\n",
       "      <td>10</td>\n",
       "      <td>100</td>\n",
       "      <td>10</td>\n",
       "      <td>0.605076</td>\n",
       "      <td>0.446696</td>\n",
       "    </tr>\n",
       "    <tr>\n",
       "      <th>34</th>\n",
       "      <td>30</td>\n",
       "      <td>100</td>\n",
       "      <td>100</td>\n",
       "      <td>0.642172</td>\n",
       "      <td>0.446280</td>\n",
       "    </tr>\n",
       "    <tr>\n",
       "      <th>15</th>\n",
       "      <td>10</td>\n",
       "      <td>1</td>\n",
       "      <td>150</td>\n",
       "      <td>0.777016</td>\n",
       "      <td>0.445642</td>\n",
       "    </tr>\n",
       "    <tr>\n",
       "      <th>17</th>\n",
       "      <td>10</td>\n",
       "      <td>10</td>\n",
       "      <td>30</td>\n",
       "      <td>0.733018</td>\n",
       "      <td>0.445101</td>\n",
       "    </tr>\n",
       "    <tr>\n",
       "      <th>14</th>\n",
       "      <td>10</td>\n",
       "      <td>1</td>\n",
       "      <td>100</td>\n",
       "      <td>0.773608</td>\n",
       "      <td>0.443539</td>\n",
       "    </tr>\n",
       "    <tr>\n",
       "      <th>19</th>\n",
       "      <td>10</td>\n",
       "      <td>10</td>\n",
       "      <td>150</td>\n",
       "      <td>0.736907</td>\n",
       "      <td>0.442927</td>\n",
       "    </tr>\n",
       "    <tr>\n",
       "      <th>29</th>\n",
       "      <td>30</td>\n",
       "      <td>10</td>\n",
       "      <td>30</td>\n",
       "      <td>0.861906</td>\n",
       "      <td>0.440397</td>\n",
       "    </tr>\n",
       "    <tr>\n",
       "      <th>23</th>\n",
       "      <td>10</td>\n",
       "      <td>100</td>\n",
       "      <td>150</td>\n",
       "      <td>0.620544</td>\n",
       "      <td>0.439826</td>\n",
       "    </tr>\n",
       "    <tr>\n",
       "      <th>21</th>\n",
       "      <td>10</td>\n",
       "      <td>100</td>\n",
       "      <td>30</td>\n",
       "      <td>0.627548</td>\n",
       "      <td>0.435553</td>\n",
       "    </tr>\n",
       "    <tr>\n",
       "      <th>40</th>\n",
       "      <td>100</td>\n",
       "      <td>10</td>\n",
       "      <td>10</td>\n",
       "      <td>0.848140</td>\n",
       "      <td>0.431173</td>\n",
       "    </tr>\n",
       "    <tr>\n",
       "      <th>31</th>\n",
       "      <td>30</td>\n",
       "      <td>10</td>\n",
       "      <td>150</td>\n",
       "      <td>0.866251</td>\n",
       "      <td>0.428421</td>\n",
       "    </tr>\n",
       "    <tr>\n",
       "      <th>30</th>\n",
       "      <td>30</td>\n",
       "      <td>10</td>\n",
       "      <td>100</td>\n",
       "      <td>0.867118</td>\n",
       "      <td>0.428166</td>\n",
       "    </tr>\n",
       "    <tr>\n",
       "      <th>16</th>\n",
       "      <td>10</td>\n",
       "      <td>10</td>\n",
       "      <td>10</td>\n",
       "      <td>0.715539</td>\n",
       "      <td>0.426722</td>\n",
       "    </tr>\n",
       "    <tr>\n",
       "      <th>42</th>\n",
       "      <td>100</td>\n",
       "      <td>10</td>\n",
       "      <td>100</td>\n",
       "      <td>0.865487</td>\n",
       "      <td>0.426040</td>\n",
       "    </tr>\n",
       "    <tr>\n",
       "      <th>12</th>\n",
       "      <td>10</td>\n",
       "      <td>1</td>\n",
       "      <td>10</td>\n",
       "      <td>0.771079</td>\n",
       "      <td>0.425536</td>\n",
       "    </tr>\n",
       "    <tr>\n",
       "      <th>43</th>\n",
       "      <td>100</td>\n",
       "      <td>10</td>\n",
       "      <td>150</td>\n",
       "      <td>0.867630</td>\n",
       "      <td>0.425310</td>\n",
       "    </tr>\n",
       "    <tr>\n",
       "      <th>26</th>\n",
       "      <td>30</td>\n",
       "      <td>1</td>\n",
       "      <td>100</td>\n",
       "      <td>0.999947</td>\n",
       "      <td>0.421711</td>\n",
       "    </tr>\n",
       "    <tr>\n",
       "      <th>38</th>\n",
       "      <td>100</td>\n",
       "      <td>1</td>\n",
       "      <td>100</td>\n",
       "      <td>1.000000</td>\n",
       "      <td>0.421072</td>\n",
       "    </tr>\n",
       "    <tr>\n",
       "      <th>27</th>\n",
       "      <td>30</td>\n",
       "      <td>1</td>\n",
       "      <td>150</td>\n",
       "      <td>1.000000</td>\n",
       "      <td>0.419689</td>\n",
       "    </tr>\n",
       "    <tr>\n",
       "      <th>41</th>\n",
       "      <td>100</td>\n",
       "      <td>10</td>\n",
       "      <td>30</td>\n",
       "      <td>0.861385</td>\n",
       "      <td>0.418482</td>\n",
       "    </tr>\n",
       "    <tr>\n",
       "      <th>28</th>\n",
       "      <td>30</td>\n",
       "      <td>10</td>\n",
       "      <td>10</td>\n",
       "      <td>0.852121</td>\n",
       "      <td>0.417446</td>\n",
       "    </tr>\n",
       "    <tr>\n",
       "      <th>39</th>\n",
       "      <td>100</td>\n",
       "      <td>1</td>\n",
       "      <td>150</td>\n",
       "      <td>1.000000</td>\n",
       "      <td>0.417376</td>\n",
       "    </tr>\n",
       "    <tr>\n",
       "      <th>24</th>\n",
       "      <td>30</td>\n",
       "      <td>1</td>\n",
       "      <td>10</td>\n",
       "      <td>0.993775</td>\n",
       "      <td>0.409579</td>\n",
       "    </tr>\n",
       "    <tr>\n",
       "      <th>37</th>\n",
       "      <td>100</td>\n",
       "      <td>1</td>\n",
       "      <td>30</td>\n",
       "      <td>0.999362</td>\n",
       "      <td>0.407556</td>\n",
       "    </tr>\n",
       "    <tr>\n",
       "      <th>25</th>\n",
       "      <td>30</td>\n",
       "      <td>1</td>\n",
       "      <td>30</td>\n",
       "      <td>0.999415</td>\n",
       "      <td>0.406882</td>\n",
       "    </tr>\n",
       "    <tr>\n",
       "      <th>5</th>\n",
       "      <td>3</td>\n",
       "      <td>10</td>\n",
       "      <td>30</td>\n",
       "      <td>0.430079</td>\n",
       "      <td>0.398412</td>\n",
       "    </tr>\n",
       "    <tr>\n",
       "      <th>10</th>\n",
       "      <td>3</td>\n",
       "      <td>100</td>\n",
       "      <td>100</td>\n",
       "      <td>0.426527</td>\n",
       "      <td>0.397599</td>\n",
       "    </tr>\n",
       "    <tr>\n",
       "      <th>8</th>\n",
       "      <td>3</td>\n",
       "      <td>100</td>\n",
       "      <td>10</td>\n",
       "      <td>0.423867</td>\n",
       "      <td>0.396972</td>\n",
       "    </tr>\n",
       "    <tr>\n",
       "      <th>11</th>\n",
       "      <td>3</td>\n",
       "      <td>100</td>\n",
       "      <td>150</td>\n",
       "      <td>0.423755</td>\n",
       "      <td>0.396174</td>\n",
       "    </tr>\n",
       "    <tr>\n",
       "      <th>6</th>\n",
       "      <td>3</td>\n",
       "      <td>10</td>\n",
       "      <td>100</td>\n",
       "      <td>0.427860</td>\n",
       "      <td>0.396089</td>\n",
       "    </tr>\n",
       "    <tr>\n",
       "      <th>9</th>\n",
       "      <td>3</td>\n",
       "      <td>100</td>\n",
       "      <td>30</td>\n",
       "      <td>0.424250</td>\n",
       "      <td>0.395990</td>\n",
       "    </tr>\n",
       "    <tr>\n",
       "      <th>3</th>\n",
       "      <td>3</td>\n",
       "      <td>1</td>\n",
       "      <td>150</td>\n",
       "      <td>0.427091</td>\n",
       "      <td>0.395918</td>\n",
       "    </tr>\n",
       "    <tr>\n",
       "      <th>7</th>\n",
       "      <td>3</td>\n",
       "      <td>10</td>\n",
       "      <td>150</td>\n",
       "      <td>0.428306</td>\n",
       "      <td>0.395441</td>\n",
       "    </tr>\n",
       "    <tr>\n",
       "      <th>36</th>\n",
       "      <td>100</td>\n",
       "      <td>1</td>\n",
       "      <td>10</td>\n",
       "      <td>0.993130</td>\n",
       "      <td>0.394673</td>\n",
       "    </tr>\n",
       "    <tr>\n",
       "      <th>1</th>\n",
       "      <td>3</td>\n",
       "      <td>1</td>\n",
       "      <td>30</td>\n",
       "      <td>0.422541</td>\n",
       "      <td>0.393717</td>\n",
       "    </tr>\n",
       "    <tr>\n",
       "      <th>2</th>\n",
       "      <td>3</td>\n",
       "      <td>1</td>\n",
       "      <td>100</td>\n",
       "      <td>0.421754</td>\n",
       "      <td>0.391809</td>\n",
       "    </tr>\n",
       "    <tr>\n",
       "      <th>0</th>\n",
       "      <td>3</td>\n",
       "      <td>1</td>\n",
       "      <td>10</td>\n",
       "      <td>0.415593</td>\n",
       "      <td>0.376588</td>\n",
       "    </tr>\n",
       "    <tr>\n",
       "      <th>4</th>\n",
       "      <td>3</td>\n",
       "      <td>10</td>\n",
       "      <td>10</td>\n",
       "      <td>0.381092</td>\n",
       "      <td>0.347265</td>\n",
       "    </tr>\n",
       "  </tbody>\n",
       "</table>\n",
       "</div>"
      ],
      "text/plain": [
       "      params                                       scores                    \n",
       "   max_depth min_samples_leaf n_estimators train_weighted validation_weighted\n",
       "33        30              100           30       0.643324            0.463518\n",
       "44       100              100           10       0.632910            0.463180\n",
       "47       100              100          150       0.645184            0.459087\n",
       "32        30              100           10       0.636848            0.458153\n",
       "35        30              100          150       0.642077            0.458108\n",
       "46       100              100          100       0.650043            0.455831\n",
       "45       100              100           30       0.644333            0.452113\n",
       "13        10                1           30       0.776089            0.451573\n",
       "22        10              100          100       0.625828            0.448405\n",
       "18        10               10          100       0.730110            0.448180\n",
       "20        10              100           10       0.605076            0.446696\n",
       "34        30              100          100       0.642172            0.446280\n",
       "15        10                1          150       0.777016            0.445642\n",
       "17        10               10           30       0.733018            0.445101\n",
       "14        10                1          100       0.773608            0.443539\n",
       "19        10               10          150       0.736907            0.442927\n",
       "29        30               10           30       0.861906            0.440397\n",
       "23        10              100          150       0.620544            0.439826\n",
       "21        10              100           30       0.627548            0.435553\n",
       "40       100               10           10       0.848140            0.431173\n",
       "31        30               10          150       0.866251            0.428421\n",
       "30        30               10          100       0.867118            0.428166\n",
       "16        10               10           10       0.715539            0.426722\n",
       "42       100               10          100       0.865487            0.426040\n",
       "12        10                1           10       0.771079            0.425536\n",
       "43       100               10          150       0.867630            0.425310\n",
       "26        30                1          100       0.999947            0.421711\n",
       "38       100                1          100       1.000000            0.421072\n",
       "27        30                1          150       1.000000            0.419689\n",
       "41       100               10           30       0.861385            0.418482\n",
       "28        30               10           10       0.852121            0.417446\n",
       "39       100                1          150       1.000000            0.417376\n",
       "24        30                1           10       0.993775            0.409579\n",
       "37       100                1           30       0.999362            0.407556\n",
       "25        30                1           30       0.999415            0.406882\n",
       "5          3               10           30       0.430079            0.398412\n",
       "10         3              100          100       0.426527            0.397599\n",
       "8          3              100           10       0.423867            0.396972\n",
       "11         3              100          150       0.423755            0.396174\n",
       "6          3               10          100       0.427860            0.396089\n",
       "9          3              100           30       0.424250            0.395990\n",
       "3          3                1          150       0.427091            0.395918\n",
       "7          3               10          150       0.428306            0.395441\n",
       "36       100                1           10       0.993130            0.394673\n",
       "1          3                1           30       0.422541            0.393717\n",
       "2          3                1          100       0.421754            0.391809\n",
       "0          3                1           10       0.415593            0.376588\n",
       "4          3               10           10       0.381092            0.347265"
      ]
     },
     "execution_count": 27,
     "metadata": {},
     "output_type": "execute_result"
    }
   ],
   "source": [
    "random_forest_scores = get_models_custom_scoring(\n",
    "    random_forest_models,\n",
    "    X_train_train,\n",
    "    y_train_train,\n",
    "    X_train_val,\n",
    "    y_train_val\n",
    ")\n",
    "                   \n",
    "random_forest_results = pd.concat([pd.DataFrame(random_forest_params_grid), pd.DataFrame(random_forest_scores)],\n",
    "                                  keys=['params', 'scores'],\n",
    "                                  axis=1)\n",
    "\n",
    "random_forest_results = random_forest_results.sort_values(\n",
    "    by=[('scores', 'validation_weighted')], \n",
    "    ascending=False\n",
    ")\n",
    "random_forest_results\n"
   ]
  },
  {
   "cell_type": "code",
   "execution_count": 28,
   "metadata": {},
   "outputs": [],
   "source": [
    "best_random_forest_model, _, _ = get_best_model(random_forest_models, random_forest_params_grid, random_forest_scores)\n",
    "    \n",
    "random_forest_prediction = best_random_forest_model.predict(X_test)\n"
   ]
  },
  {
   "cell_type": "code",
   "execution_count": 29,
   "metadata": {},
   "outputs": [
    {
     "name": "stdout",
     "output_type": "stream",
     "text": [
      "New submission file at submission_rf.csv\n"
     ]
    }
   ],
   "source": [
    "from kaggle_submit import submit_to_kaggle\n",
    "\n",
    "# submit_to_kaggle(random_forest_prediction, h5_test, fname=\"submission_rf.csv\", msg=\"rf\")"
   ]
  },
  {
   "cell_type": "code",
   "execution_count": 24,
   "metadata": {},
   "outputs": [],
   "source": [
    "h5_train.close()\n",
    "h5_test.close()"
   ]
  }
 ],
 "metadata": {
  "kernelspec": {
   "display_name": "Python 3",
   "language": "python",
   "name": "python3"
  },
  "language_info": {
   "codemirror_mode": {
    "name": "ipython",
    "version": 3
   },
   "file_extension": ".py",
   "mimetype": "text/x-python",
   "name": "python",
   "nbconvert_exporter": "python",
   "pygments_lexer": "ipython3",
   "version": "3.8.3"
  }
 },
 "nbformat": 4,
 "nbformat_minor": 4
}
