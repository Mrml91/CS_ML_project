{
 "cells": [
  {
   "cell_type": "code",
   "execution_count": 2,
   "metadata": {},
   "outputs": [],
   "source": [
    "import numpy as np\n",
    "import pandas as pd\n",
    "import matplotlib.pyplot as plt"
   ]
  },
  {
   "cell_type": "code",
   "execution_count": 3,
   "metadata": {},
   "outputs": [],
   "source": [
    "import h5py\n",
    "\n",
    "training_file = \"kaggle_data/X_train.h5/X_train.h5\"\n",
    "train_ds = h5py.File(training_file, mode='r')"
   ]
  },
  {
   "cell_type": "code",
   "execution_count": 79,
   "metadata": {},
   "outputs": [],
   "source": [
    "# list(train_ds.keys())\n",
    "\n",
    "EEGS = [f'eeg_{i}' for i in range(1, 8)]\n",
    "ACCELEROMETER = ['x', 'y', 'z']\n",
    "PULSE = ['pulse']\n",
    "\n",
    "FEATURES = EEGS + ACCELEROMETER + PULSE"
   ]
  },
  {
   "cell_type": "code",
   "execution_count": 4,
   "metadata": {},
   "outputs": [],
   "source": [
    "# HELPERS\n",
    "\n",
    "def make_timeline(freq): # freq in Hz\n",
    "    return pd.timedelta_range(start='0s', end='30s', periods=freq*30)\n",
    "\n",
    "\n",
    "def make_full_timeline(windows, freq):\n",
    "    # test there is no hole\n",
    "    deltas = np.unique(np.diff(windows))\n",
    "    assert (len(deltas) == 1) and (int(deltas[0]) == 1)\n",
    "    # make tl\n",
    "    return pd.timedelta_range(start='0s',\n",
    "                              end=pd.to_timedelta('30s') * (windows[-1] + 1),\n",
    "                              periods=freq * 30 * (windows[-1] + 1))\n",
    "    \n",
    "    \n",
    "def get_subject_boundaries(h5_file, subject_id, ready_to_use=True):\n",
    "    sids = h5_file['index'][:]\n",
    "    start = np.argmax(sids == subject_id)\n",
    "    end = len(sids) - 1 - np.argmax(sids[::-1] == subject_id)\n",
    "    if ready_to_use:\n",
    "        return slice(start, end + 1)\n",
    "    return (start, end)\n",
    "\n",
    "\n",
    "def get_subject_char_full(h5_file, subject_id, char):\n",
    "    # fetch subject boundaries\n",
    "    boundaries = get_subject_boundaries(h5_file, subject_id)\n",
    "    # retrieve samples\n",
    "    char_ts = np.concatenate(h5_file[char][boundaries], axis=0)\n",
    "    # build timeline\n",
    "    char_freq = len(h5_file[char][0]) / 30\n",
    "    windows = h5_file['index_window'][boundaries]\n",
    "    timeline = make_full_timeline(windows, char_freq)\n",
    "    return pd.Series(data=char_ts, index=timeline)\n",
    "\n",
    "def get_subject_char_sequences(h5_file, subject_id, char):\n",
    "    # fetch subject boundaries\n",
    "    boundaries = get_subject_boundaries(h5_file, subject_id)\n",
    "    # retrieve samples\n",
    "    char_ts = h5_file[char][boundaries]\n",
    "    return char_ts\n",
    "\n",
    "# FOURIER\n",
    "\n",
    "from scipy.fft import fft\n",
    "\n",
    "def get_spectrum(seq, fs):\n",
    "    ft_modulus = np.abs(fft(seq))\n",
    "    # The signal is real so the spectrum is symmetric \n",
    "    if len(seq) % 2 == 0:\n",
    "        ft_modulus = ft_modulus[:len(seq) // 2]\n",
    "    else:\n",
    "        ft_modulus = ft_modulus[:len(seq) // 2 + 1]\n",
    "    freqs = np.arange(0, len(ft_modulus)) * fs / len(seq) # frequencies of the spectrum\n",
    "    return pd.Series(data=ft_modulus, index=freqs)\n",
    "    \n",
    "\n",
    "def get_spectrum_maxima(seq, fs, thresh=0.1):\n",
    "    spectrum = get_spectrum(seq, fs)\n",
    "    delta_left = np.diff(spectrum, prepend=spectrum[0] - 1) > 0 # ascending\n",
    "    delta_right = np.diff(spectrum[::-1], prepend=spectrum[-1] - 1)[::-1] > 0 # descending\n",
    "    ix_keep = np.logical_and(delta_left, delta_right) # local maximum\n",
    "    spectrum_util = spectrum.loc[ix_keep]\n",
    "    spectrum_util = spectrum_util.loc[spectrum_util > spectrum_util.max() * thresh]\n",
    "    return spectrum_util\n",
    "\n",
    "# ACCELEROMETER\n",
    "\n",
    "def acceleration_to_speed(accel_arr):\n",
    "    if accel_arr.ndim == 2:\n",
    "        return np.cumsum(accel_arr, axis=1)\n",
    "    return np.cumsum(accel_arr)\n",
    "\n",
    "def vec_to_norm(arr):\n",
    "    return np.linalg.norm(arr, axis=1)"
   ]
  },
  {
   "cell_type": "code",
   "execution_count": 13,
   "metadata": {},
   "outputs": [
    {
     "data": {
      "text/plain": [
       "index\n",
       "0    0\n",
       "1    0\n",
       "2    0\n",
       "3    0\n",
       "4    0\n",
       "Name: sleep_stage, dtype: int64"
      ]
     },
     "execution_count": 13,
     "metadata": {},
     "output_type": "execute_result"
    }
   ],
   "source": [
    "# descriptive stats\n",
    "train_y = pd.read_csv('kaggle_data/y_train.csv', index_col='index', squeeze=True)\n",
    "train_y.head()"
   ]
  },
  {
   "cell_type": "code",
   "execution_count": 80,
   "metadata": {},
   "outputs": [],
   "source": [
    "def do_nothing(x):\n",
    "    return x\n",
    "\n",
    "def aggregate_stat(stat_func, char, dataset, y_vals, chunksize=1000):\n",
    "    \"\"\"stat_func must have axis kwarg and take 2d arrays as arg\"\"\"\n",
    "    chunks_ix = np.array_split(y_vals.index, len(y_vals) / chunksize)\n",
    "    final = pd.Series([list() for _ in np.unique(y_vals)], index=np.unique(y_vals))\n",
    "    for cnt, ix in enumerate(chunks_ix): \n",
    "        # print(cnt, '/', len(chunks_ix))\n",
    "        tmp = pd.Series(stat_func(dataset[char][ix.tolist()], axis=1), index=y_vals.loc[ix])\n",
    "        tmp = tmp.groupby(tmp.index).agg(list)\n",
    "        final = final + tmp.reindex(final.index, fill_value=list())\n",
    "    return final\n",
    "\n",
    "def custom_group_mean(char, dataset, y_vals, chunksize=1000):\n",
    "    chunks_ix = np.array_split(y_vals.index, len(y_vals) / chunksize)\n",
    "    for cnt, ix in enumerate(chunks_ix): \n",
    "        # print(cnt, '/', len(chunks_ix))\n",
    "        mean_tmp = pd.Series(np.mean(dataset[char][ix.tolist()], axis=1), index=y_vals.loc[ix])\n",
    "        mean_tmp = mean_tmp.groupby(mean_tmp.index).agg(['mean', 'size'])\n",
    "        if cnt == 0:\n",
    "            mean_df = mean_tmp\n",
    "            continue\n",
    "        mean_df.loc[:, 'mean'] = (mean_df.prod(axis=1) + mean_tmp.prod(axis=1)) / (mean_df['size'] + mean_tmp['size'])\n",
    "        mean_df.loc[:, 'size'] = mean_df['size'] + mean_df['size']\n",
    "    return mean_df['mean']\n",
    "\n",
    "# custom_group_mean('eeg_1', train_ds, train_y)\n",
    "averages = pd.concat(map(lambda x: custom_group_mean(x, train_ds, train_y, 1000), FEATURES), axis=1, keys=FEATURES)"
   ]
  },
  {
   "cell_type": "code",
   "execution_count": 96,
   "metadata": {},
   "outputs": [
    {
     "data": {
      "text/plain": [
       "<matplotlib.colorbar.Colorbar at 0x7f93719de6d8>"
      ]
     },
     "execution_count": 96,
     "metadata": {},
     "output_type": "execute_result"
    },
    {
     "data": {
      "image/png": "[encoded data removed]",
      "text/plain": [
       "<Figure size 432x288 with 2 Axes>"
      ]
     },
     "metadata": {
      "needs_background": "light"
     },
     "output_type": "display_data"
    }
   ],
   "source": [
    "def minmax_scale(df):\n",
    "    rescaled_df = (df - df.min()) / (df.max() - df.min())\n",
    "    return rescaled_df\n",
    "\n",
    "plt.imshow(minmax_scale(averages))\n",
    "locs, _ = plt.xticks()\n",
    "plt.xticks(np.arange(0, len(FEATURES)), FEATURES, rotation=45)\n",
    "plt.colorbar()"
   ]
  },
  {
   "cell_type": "code",
   "execution_count": 71,
   "metadata": {},
   "outputs": [
    {
     "data": {
      "text/plain": [
       "0    [1.4324549436569214, 58.02750015258789, -59.38...\n",
       "1    [0.18000394105911255, 0.7500182390213013, 189....\n",
       "2    [48.3266716003418, 265.5929260253906, -328.713...\n",
       "3    [71.80743408203125, -89.3786392211914, 5.19601...\n",
       "4    [-0.23850062489509583, -0.10399891436100006, -...\n",
       "dtype: object"
      ]
     },
     "execution_count": 71,
     "metadata": {},
     "output_type": "execute_result"
    }
   ],
   "source": [
    "aggregate_stat(np.mean, 'eeg_1', train_ds, train_y, chunksize=1000)"
   ]
  },
  {
   "cell_type": "code",
   "execution_count": 24,
   "metadata": {},
   "outputs": [
    {
     "data": {
      "text/plain": [
       "0    0\n",
       "1    1\n",
       "2    2\n",
       "0    3\n",
       "1    4\n",
       "2    5\n",
       "0    6\n",
       "1    7\n",
       "2    8\n",
       "dtype: int64"
      ]
     },
     "execution_count": 24,
     "metadata": {},
     "output_type": "execute_result"
    }
   ],
   "source": [
    "z = pd.Series(np.arange(9), [0, 1, 2] * 3)\n",
    "z"
   ]
  },
  {
   "cell_type": "code",
   "execution_count": 26,
   "metadata": {},
   "outputs": [],
   "source": [
    "a = z.groupby(z.index).agg(['mean', 'size'])"
   ]
  },
  {
   "cell_type": "code",
   "execution_count": 44,
   "metadata": {},
   "outputs": [
    {
     "data": {
      "text/plain": [
       "0     0\n",
       "1     2\n",
       "2     4\n",
       "0     6\n",
       "1     8\n",
       "2    10\n",
       "0    12\n",
       "1    14\n",
       "2    16\n",
       "dtype: int64"
      ]
     },
     "execution_count": 44,
     "metadata": {},
     "output_type": "execute_result"
    }
   ],
   "source": [
    "pd.concat([z, z], axis=1).apply(sum, axis=1)"
   ]
  },
  {
   "cell_type": "code",
   "execution_count": 47,
   "metadata": {},
   "outputs": [
    {
     "data": {
      "text/plain": [
       "0    [0, 3, 6]\n",
       "1    [1, 4, 7]\n",
       "2    [2, 5, 8]\n",
       "dtype: object"
      ]
     },
     "execution_count": 47,
     "metadata": {},
     "output_type": "execute_result"
    }
   ],
   "source": [
    "a = z.groupby(z.index).agg(list)\n",
    "a"
   ]
  },
  {
   "cell_type": "code",
   "execution_count": 69,
   "metadata": {},
   "outputs": [
    {
     "data": {
      "text/plain": [
       "0    [0, 3, 6]\n",
       "1    [1, 4, 7]\n",
       "2    [2, 5, 8]\n",
       "3           []\n",
       "dtype: object"
      ]
     },
     "execution_count": 69,
     "metadata": {},
     "output_type": "execute_result"
    }
   ],
   "source": [
    "a.reindex(a.index.tolist() + [3], fill_value=list())"
   ]
  },
  {
   "cell_type": "code",
   "execution_count": 74,
   "metadata": {},
   "outputs": [
    {
     "ename": "AttributeError",
     "evalue": "'list' object has no attribute 'encode'",
     "output_type": "error",
     "traceback": [
      "\u001b[0;31m---------------------------------------------------------------------------\u001b[0m",
      "\u001b[0;31mAttributeError\u001b[0m                            Traceback (most recent call last)",
      "\u001b[0;32m<ipython-input-74-92a32963c766>\u001b[0m in \u001b[0;36m<module>\u001b[0;34m\u001b[0m\n\u001b[0;32m----> 1\u001b[0;31m \u001b[0mtrain_ds\u001b[0m\u001b[0;34m[\u001b[0m\u001b[0;34m[\u001b[0m\u001b[0;34m'eeg_1'\u001b[0m\u001b[0;34m,\u001b[0m \u001b[0;34m'eeg_2'\u001b[0m\u001b[0;34m]\u001b[0m\u001b[0;34m]\u001b[0m\u001b[0;34m[\u001b[0m\u001b[0;34m:\u001b[0m\u001b[0;36m10\u001b[0m\u001b[0;34m]\u001b[0m\u001b[0;34m\u001b[0m\u001b[0;34m\u001b[0m\u001b[0m\n\u001b[0m",
      "\u001b[0;32mh5py/_objects.pyx\u001b[0m in \u001b[0;36mh5py._objects.with_phil.wrapper\u001b[0;34m()\u001b[0m\n",
      "\u001b[0;32mh5py/_objects.pyx\u001b[0m in \u001b[0;36mh5py._objects.with_phil.wrapper\u001b[0;34m()\u001b[0m\n",
      "\u001b[0;32m/Library/Frameworks/Python.framework/Versions/3.7/lib/python3.7/site-packages/h5py/_hl/group.py\u001b[0m in \u001b[0;36m__getitem__\u001b[0;34m(self, name)\u001b[0m\n\u001b[1;32m    286\u001b[0m                 \u001b[0;32mraise\u001b[0m \u001b[0mValueError\u001b[0m\u001b[0;34m(\u001b[0m\u001b[0;34m\"Invalid HDF5 object reference\"\u001b[0m\u001b[0;34m)\u001b[0m\u001b[0;34m\u001b[0m\u001b[0;34m\u001b[0m\u001b[0m\n\u001b[1;32m    287\u001b[0m         \u001b[0;32melse\u001b[0m\u001b[0;34m:\u001b[0m\u001b[0;34m\u001b[0m\u001b[0;34m\u001b[0m\u001b[0m\n\u001b[0;32m--> 288\u001b[0;31m             \u001b[0moid\u001b[0m \u001b[0;34m=\u001b[0m \u001b[0mh5o\u001b[0m\u001b[0;34m.\u001b[0m\u001b[0mopen\u001b[0m\u001b[0;34m(\u001b[0m\u001b[0mself\u001b[0m\u001b[0;34m.\u001b[0m\u001b[0mid\u001b[0m\u001b[0;34m,\u001b[0m \u001b[0mself\u001b[0m\u001b[0;34m.\u001b[0m\u001b[0m_e\u001b[0m\u001b[0;34m(\u001b[0m\u001b[0mname\u001b[0m\u001b[0;34m)\u001b[0m\u001b[0;34m,\u001b[0m \u001b[0mlapl\u001b[0m\u001b[0;34m=\u001b[0m\u001b[0mself\u001b[0m\u001b[0;34m.\u001b[0m\u001b[0m_lapl\u001b[0m\u001b[0;34m)\u001b[0m\u001b[0;34m\u001b[0m\u001b[0;34m\u001b[0m\u001b[0m\n\u001b[0m\u001b[1;32m    289\u001b[0m \u001b[0;34m\u001b[0m\u001b[0m\n\u001b[1;32m    290\u001b[0m         \u001b[0motype\u001b[0m \u001b[0;34m=\u001b[0m \u001b[0mh5i\u001b[0m\u001b[0;34m.\u001b[0m\u001b[0mget_type\u001b[0m\u001b[0;34m(\u001b[0m\u001b[0moid\u001b[0m\u001b[0;34m)\u001b[0m\u001b[0;34m\u001b[0m\u001b[0;34m\u001b[0m\u001b[0m\n",
      "\u001b[0;32m/Library/Frameworks/Python.framework/Versions/3.7/lib/python3.7/site-packages/h5py/_hl/base.py\u001b[0m in \u001b[0;36m_e\u001b[0;34m(self, name, lcpl)\u001b[0m\n\u001b[1;32m    198\u001b[0m         \u001b[0;32melse\u001b[0m\u001b[0;34m:\u001b[0m\u001b[0;34m\u001b[0m\u001b[0;34m\u001b[0m\u001b[0m\n\u001b[1;32m    199\u001b[0m             \u001b[0;32mtry\u001b[0m\u001b[0;34m:\u001b[0m\u001b[0;34m\u001b[0m\u001b[0;34m\u001b[0m\u001b[0m\n\u001b[0;32m--> 200\u001b[0;31m                 \u001b[0mname\u001b[0m \u001b[0;34m=\u001b[0m \u001b[0mname\u001b[0m\u001b[0;34m.\u001b[0m\u001b[0mencode\u001b[0m\u001b[0;34m(\u001b[0m\u001b[0;34m'ascii'\u001b[0m\u001b[0;34m)\u001b[0m\u001b[0;34m\u001b[0m\u001b[0;34m\u001b[0m\u001b[0m\n\u001b[0m\u001b[1;32m    201\u001b[0m                 \u001b[0mcoding\u001b[0m \u001b[0;34m=\u001b[0m \u001b[0mh5t\u001b[0m\u001b[0;34m.\u001b[0m\u001b[0mCSET_ASCII\u001b[0m\u001b[0;34m\u001b[0m\u001b[0;34m\u001b[0m\u001b[0m\n\u001b[1;32m    202\u001b[0m             \u001b[0;32mexcept\u001b[0m \u001b[0mUnicodeEncodeError\u001b[0m\u001b[0;34m:\u001b[0m\u001b[0;34m\u001b[0m\u001b[0;34m\u001b[0m\u001b[0m\n",
      "\u001b[0;31mAttributeError\u001b[0m: 'list' object has no attribute 'encode'"
     ]
    }
   ],
   "source": [
    "train_ds[['eeg_1', 'eeg_2']][:10]"
   ]
  },
  {
   "cell_type": "code",
   "execution_count": null,
   "metadata": {},
   "outputs": [],
   "source": []
  }
 ],
 "metadata": {
  "kernelspec": {
   "display_name": "Python 3.7.1 64-bit",
   "language": "python",
   "name": "python37164bitdc6ddf9b5234459bacda0ad4bcef452b"
  },
  "language_info": {
   "codemirror_mode": {
    "name": "ipython",
    "version": 3
   },
   "file_extension": ".py",
   "mimetype": "text/x-python",
   "name": "python",
   "nbconvert_exporter": "python",
   "pygments_lexer": "ipython3",
   "version": "3.7.1"
  }
 },
 "nbformat": 4,
 "nbformat_minor": 4
}
